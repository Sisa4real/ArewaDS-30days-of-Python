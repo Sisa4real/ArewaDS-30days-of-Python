{
 "cells": [
  {
   "cell_type": "code",
   "execution_count": 1,
   "metadata": {},
   "outputs": [],
   "source": [
    "#Day 2: Exercise\n",
    "#Level \n",
    "\n",
    "#Question 1-13\n",
    "#Day 2: 30 Days of Python\n",
    "first_name = \"Sufiyan\"\n",
    "last_name = \"Ibrahim\"\n",
    "full_name = first_name + \" \" + last_name\n",
    "country = \"Nigeria\"\n",
    "city = \"Sabuwa\"\n",
    "age = 240\n",
    "year = 2023\n",
    "is_married = False\n",
    "is_true = True\n",
    "is_light_on = True\n",
    "first_name, last_name, university = \"Sufiyan\", \"Ibrahim\", \"ABuU Zaria\"\n",
    "\n",
    "\n"
   ]
  },
  {
   "cell_type": "code",
   "execution_count": 2,
   "metadata": {},
   "outputs": [
    {
     "name": "stdout",
     "output_type": "stream",
     "text": [
      "<class 'str'>\n",
      "<class 'str'>\n",
      "<class 'str'>\n",
      "<class 'str'>\n",
      "<class 'str'>\n",
      "<class 'int'>\n",
      "<class 'int'>\n",
      "<class 'bool'>\n",
      "<class 'bool'>\n",
      "<class 'bool'>\n"
     ]
    }
   ],
   "source": [
    "#Level 2: \n",
    "\n",
    "#Question 1:\n",
    "print(type(first_name))\n",
    "print(type(last_name))\n",
    "print(type(full_name))\n",
    "print(type(country))\n",
    "print(type(city))\n",
    "print(type(age))\n",
    "print(type(year))\n",
    "print(type(is_married))\n",
    "print(type(is_true))\n",
    "print(type(is_light_on))\n"
   ]
  },
  {
   "cell_type": "code",
   "execution_count": 3,
   "metadata": {},
   "outputs": [
    {
     "name": "stdout",
     "output_type": "stream",
     "text": [
      "7\n"
     ]
    }
   ],
   "source": [
    "#Question 2: \n",
    "print(len(first_name))"
   ]
  },
  {
   "cell_type": "code",
   "execution_count": 5,
   "metadata": {},
   "outputs": [
    {
     "name": "stdout",
     "output_type": "stream",
     "text": [
      "False\n"
     ]
    }
   ],
   "source": [
    "#Question 3: \n",
    "print(len(first_name)> len(last_name))"
   ]
  },
  {
   "cell_type": "code",
   "execution_count": 7,
   "metadata": {},
   "outputs": [
    {
     "name": "stdout",
     "output_type": "stream",
     "text": [
      "9\n",
      "-1\n",
      "20\n",
      "0.8\n",
      "4\n",
      "1024\n",
      "0\n"
     ]
    }
   ],
   "source": [
    "#Question 4: \n",
    "num_one = 4\n",
    "num_two = 5\n",
    "\n",
    "addition = num_one + num_two\n",
    "difference = num_one - num_two\n",
    "product = num_one * num_two\n",
    "division = num_one / num_two\n",
    "modulo = num_one % num_two\n",
    "power = num_one**num_two\n",
    "floor_divsion = num_one//num_two\n",
    "\n",
    "print(addition)\n",
    "print(difference)\n",
    "print(product)\n",
    "print(division)\n",
    "print(modulo)\n",
    "print(power)\n",
    "print(floor_divsion)"
   ]
  },
  {
   "cell_type": "code",
   "execution_count": 11,
   "metadata": {},
   "outputs": [
    {
     "name": "stdout",
     "output_type": "stream",
     "text": [
      "2826.0\n",
      "188.4\n",
      "2826.0\n"
     ]
    }
   ],
   "source": [
    "#Question 5: \n",
    "#Calculating the area of a circle with  the radius of 30 meters\n",
    "radius = 30\n",
    "pi = 3.14\n",
    "area_of_a_circle = pi * (radius*radius)\n",
    "print(area_of_a_circle)\n",
    "\n",
    "\n",
    "#Calculating the circumference of a cirlce with radius of 30 meters\n",
    "radius = 30\n",
    "pi = 3.14\n",
    "circumf_of_a_circle = (pi*radius)*2\n",
    "print(circumf_of_a_circle)\n",
    "\n",
    "#Calculating the area of a circle with  the radius as a user input\n",
    "radius = float(input(\"Enter the radius of the circle: \"))\n",
    "area_of_a_circle = pi * (radius*radius)\n",
    "print(area_of_a_circle)\n",
    "\n"
   ]
  },
  {
   "cell_type": "code",
   "execution_count": 18,
   "metadata": {},
   "outputs": [
    {
     "name": "stdout",
     "output_type": "stream",
     "text": [
      "My first name is:  sufiyan\n",
      "My last name is:  ibrahim\n",
      "My Country is:  Nigeria\n",
      "I am  230 Years old\n"
     ]
    }
   ],
   "source": [
    "#Question 6\n",
    "first_name = input(\"what is You first name: \")\n",
    "last_name = input(\"what is you last name: \")\n",
    "country = input(\"what is your country of residence: \")\n",
    "age = input(\"How old are you: \")\n",
    "print(\"My first name is: \", first_name)\n",
    "print(\"My last name is: \", last_name)\n",
    "print(\"My Country is: \", country)\n",
    "print(\"I am \", age, \"Years old\")"
   ]
  },
  {
   "cell_type": "code",
   "execution_count": 14,
   "metadata": {},
   "outputs": [
    {
     "name": "stdout",
     "output_type": "stream",
     "text": [
      "\n",
      "Here is a list of the Python keywords.  Enter any keyword to get more help.\n",
      "\n",
      "False               break               for                 not\n",
      "None                class               from                or\n",
      "True                continue            global              pass\n",
      "__peg_parser__      def                 if                  raise\n",
      "and                 del                 import              return\n",
      "as                  elif                in                  try\n",
      "assert              else                is                  while\n",
      "async               except              lambda              with\n",
      "await               finally             nonlocal            yield\n",
      "\n"
     ]
    }
   ],
   "source": [
    "#Question : 7\n",
    "help(\"keywords\")"
   ]
  },
  {
   "cell_type": "code",
   "execution_count": null,
   "metadata": {},
   "outputs": [],
   "source": []
  }
 ],
 "metadata": {
  "kernelspec": {
   "display_name": "Python 3",
   "language": "python",
   "name": "python3"
  },
  "language_info": {
   "codemirror_mode": {
    "name": "ipython",
    "version": 3
   },
   "file_extension": ".py",
   "mimetype": "text/x-python",
   "name": "python",
   "nbconvert_exporter": "python",
   "pygments_lexer": "ipython3",
   "version": "3.9.13"
  }
 },
 "nbformat": 4,
 "nbformat_minor": 2
}
