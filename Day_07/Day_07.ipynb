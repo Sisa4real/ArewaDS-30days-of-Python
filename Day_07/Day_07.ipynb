{
 "cells": [
  {
   "cell_type": "code",
   "execution_count": 8,
   "metadata": {},
   "outputs": [
    {
     "name": "stdout",
     "output_type": "stream",
     "text": [
      "7\n",
      "{'Facebook', 'Microsoft', 'Google', 'Amazon', 'Twitter', 'Oracle', 'IBM', 'Apple'}\n",
      "{'Microsoft', 'Google', ' ', 'S', 'G', 'a', 'g', 'I', 'Apple', 'e', 'Amazon', 'r', 'm', 'IBM', 'C', 'u', 'o', 'l', 'M', 'Twitter', 'i', 'n', 't', 'Facebook', 'h', 's', 'Oracle', 'T', 'c'}\n"
     ]
    }
   ],
   "source": [
    "#Welcome to Day_07 Challenge Exercises: SETS\n",
    "\n",
    "#LEVEL 1: \n",
    " # sets\n",
    "it_companies = {'Facebook', 'Google', 'Microsoft', 'Apple', 'IBM', 'Oracle', 'Amazon'}\n",
    "\n",
    "length_of_the_set = len(it_companies) #Finding length  of the Set\n",
    "print(length_of_the_set)\n",
    "\n",
    "#Adding Twiitter to the Set\n",
    "add_twitter_set = it_companies.add(\"Twitter\")\n",
    "print(it_companies)\n",
    "\n",
    "#Inseting Multiple Items in the It_companies\n",
    "updated_set = it_companies.update(\"GTech Solutions\", \"Samha Technologies\", \"Maigoro It Consulting\")\n",
    "print(it_companies)\n",
    "\n",
    "#Differences Between Remove and Descard Method\n",
    "#Remove: This meyhods usually do provide value error whenever the itme is not inside the set.\n",
    "#Discard: This is the method that do  ot throw any value even if the item discared is not in the set\n"
   ]
  },
  {
   "cell_type": "code",
   "execution_count": 23,
   "metadata": {},
   "outputs": [
    {
     "name": "stdout",
     "output_type": "stream",
     "text": [
      "{19, 20, 22, 24, 25, 26, 27, 28}\n",
      "{19, 20, 22, 24, 25, 26}\n",
      "True\n",
      "{19, 20, 22, 24, 25, 26, 27, 28}\n",
      "{19, 20, 22, 24, 25, 26, 27, 28}\n",
      "{27, 28}\n"
     ]
    }
   ],
   "source": [
    "#Level 2:\n",
    "#Sets : \n",
    "A = {19, 22, 24, 20, 25, 26}\n",
    "B = {19, 22, 20, 25, 26, 24, 28, 27}\n",
    "\n",
    "\n",
    "#Joining Set  A and Set B.\n",
    "set_A_and_B = A.union(B)\n",
    "print(set_A_and_B)\n",
    "\n",
    "#Finding intersection of A and B\n",
    "intersection_of_a_and_b = A.intersection(B)\n",
    "print(intersection_of_a_and_b) \n",
    "\n",
    "#checking subset\n",
    "checking_subset = A.issubset(B)\n",
    "print(checking_subset)\n",
    "\n",
    "#Cheking if A and B are disjoint sets\n",
    "A.isdisjoint(B)\n",
    "\n",
    "#joining the sets A and B\n",
    "joining_a_and_b = A.union(B)\n",
    "print(joining_a_and_b)\n",
    "\n",
    "#Joining the sets B and A\n",
    "joining_b_and_a = B.union(A)\n",
    "print(joining_b_and_a)\n",
    "\n",
    "#Symmetric Difference  Between A and B\n",
    "symmetric_difference = A.symmetric_difference(B)\n",
    "print(symmetric_difference)\n",
    "del A\n",
    "del B"
   ]
  },
  {
   "cell_type": "code",
   "execution_count": 27,
   "metadata": {},
   "outputs": [
    {
     "name": "stdout",
     "output_type": "stream",
     "text": [
      "{19, 22, 24, 25, 26}\n",
      "True\n"
     ]
    }
   ],
   "source": [
    "#Level #: \n",
    "age = [22, 19, 24, 25, 26, 24, 25, 24]\n",
    "list_to_sets = set(age)\n",
    "print(lsit_ot_sets)\n",
    "\n",
    "length_comparison = len(age) > len(list_to_sets)\n",
    "print(length_comparison)"
   ]
  },
  {
   "cell_type": "code",
   "execution_count": 30,
   "metadata": {},
   "outputs": [
    {
     "name": "stdout",
     "output_type": "stream",
     "text": [
      "['I', 'am', 'a', 'teacher', 'and', 'I', 'love', 'to', 'inspire', 'and', 'teach', 'people']\n",
      "{'people', 'inspire', 'a', 'teach', 'I', 'and', 'to', 'teacher', 'am', 'love'}\n"
     ]
    }
   ],
   "source": [
    "sentence = \"I am a teacher and I love to inspire and teach people\"\n",
    "\n",
    "sentence_splitting = sentence.split()\n",
    "print(sentence_splitting)\n",
    "\n",
    "sentence_splitting_set = set(sentence_splitting)\n",
    "print(sentence_splitting_set)"
   ]
  },
  {
   "cell_type": "code",
   "execution_count": null,
   "metadata": {},
   "outputs": [],
   "source": []
  }
 ],
 "metadata": {
  "kernelspec": {
   "display_name": "Python 3",
   "language": "python",
   "name": "python3"
  },
  "language_info": {
   "codemirror_mode": {
    "name": "ipython",
    "version": 3
   },
   "file_extension": ".py",
   "mimetype": "text/x-python",
   "name": "python",
   "nbconvert_exporter": "python",
   "pygments_lexer": "ipython3",
   "version": "3.9.13"
  }
 },
 "nbformat": 4,
 "nbformat_minor": 2
}
