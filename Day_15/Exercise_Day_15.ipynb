{
 "cells": [
  {
   "cell_type": "markdown",
   "id": "79e93721",
   "metadata": {},
   "source": [
    "I practiced error types by using python interactive shell, and i understand what trigger the error and how to fix it. The errors included:\n",
    "\n",
    "1. SyntaxError\n",
    "2. NameError\n",
    "3. IndexError\n",
    "4. ModuleNotFoundError\n",
    "5. AttributeError\n",
    "6. KeyError\n",
    "7. TypeError\n",
    "8. ImportError\n",
    "9. ValueError\n",
    "10. ZeroDivisionError"
   ]
  },
  {
   "cell_type": "code",
   "execution_count": null,
   "id": "ce15cab5",
   "metadata": {},
   "outputs": [],
   "source": []
  }
 ],
 "metadata": {
  "kernelspec": {
   "display_name": "Python 3 (ipykernel)",
   "language": "python",
   "name": "python3"
  },
  "language_info": {
   "codemirror_mode": {
    "name": "ipython",
    "version": 3
   },
   "file_extension": ".py",
   "mimetype": "text/x-python",
   "name": "python",
   "nbconvert_exporter": "python",
   "pygments_lexer": "ipython3",
   "version": "3.9.12"
  }
 },
 "nbformat": 4,
 "nbformat_minor": 5
}
