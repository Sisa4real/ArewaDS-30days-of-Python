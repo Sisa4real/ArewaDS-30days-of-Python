{
 "cells": [
  {
   "cell_type": "code",
   "execution_count": 3,
   "metadata": {},
   "outputs": [
    {
     "name": "stdout",
     "output_type": "stream",
     "text": [
      "7\n",
      "-1\n",
      "12\n",
      "3\n",
      "0.75\n",
      "81\n",
      "0\n"
     ]
    }
   ],
   "source": [
    "#exercise Level 2:\n",
    "#question 2\n",
    "print(3+4) #Addition operation\n",
    "print(3-4) #Subtraction Operation\n",
    "print(3*4) #Multiplication operation\n",
    "print(3%4) #Modulo Operation\n",
    "print(3/4) #Division Operation\n",
    "print(3**4) #Exponentiation\n",
    "print(3//4) #Floor Division"
   ]
  },
  {
   "cell_type": "code",
   "execution_count": 6,
   "metadata": {},
   "outputs": [
    {
     "name": "stdout",
     "output_type": "stream",
     "text": [
      "Sufiyan\n",
      "Ibrahim\n",
      "Nigeria\n",
      "I am enjoying 30 Days of Python\n"
     ]
    }
   ],
   "source": [
    "#Questions 3: \n",
    "print(\"Sufiyan\") #My First name\n",
    "print(\"Ibrahim\") #My family name\n",
    "print(\"Nigeria\") #My Country Name\n",
    "print(\"I am enjoying 30 Days of Python\") #I am enjoying 30 Days of Python String"
   ]
  },
  {
   "cell_type": "code",
   "execution_count": 7,
   "metadata": {},
   "outputs": [
    {
     "name": "stdout",
     "output_type": "stream",
     "text": [
      "<class 'int'>\n",
      "<class 'float'>\n",
      "<class 'float'>\n",
      "<class 'complex'>\n",
      "<class 'list'>\n",
      "<class 'str'>\n",
      "<class 'str'>\n",
      "<class 'str'>\n"
     ]
    }
   ],
   "source": [
    "#Questions 4: \n",
    "print(type(10)) #Checking the data type of 10\n",
    "print(type(9.8)) #Checking the data type of 9.8\n",
    "print(type(3.14)) #Checking the data type of 3.14\n",
    "print(type(4 -4j)) #Checking the Data type of 4 -4j\n",
    "print(type([\"Sufiyan\", \"Ibrahim\", \"Nigeria\"])) \n",
    "print(type(\"Sufiyan\"))\n",
    "print(type(\"Ibrahim\"))\n",
    "print(type(\"Nigeria\"))"
   ]
  },
  {
   "cell_type": "code",
   "execution_count": 10,
   "metadata": {},
   "outputs": [
    {
     "name": "stdout",
     "output_type": "stream",
     "text": [
      "10\n",
      "3.29\n",
      "(3-3j)\n",
      "Day1\n",
      "True\n",
      "('year1', 'year 3', 'year 3')\n",
      "['Sufiyan', 'Ibrahim', 'Computer Engineering']\n",
      "{1, 2, 3, 5, 6, 8}\n",
      "{'Name': 'Sufiyan', 'Country': 'Nigeria'}\n"
     ]
    }
   ],
   "source": [
    "#Exercise: Level 3\n",
    "#Question : 1\n",
    "print(10) #Example of integer\n",
    "print(3.29) #Example of Float\n",
    "print(3 -3j) #Example of Complex Number\n",
    "print(\"Day1\") #Example of String\n",
    "print(True) #Example of Boolean\n",
    "print((\"year1\", \"year 3\", \"year 3\")) #Example of Tuple\n",
    "print([\"Sufiyan\", \"Ibrahim\", \"Computer Engineering\"]) #Example of a List\n",
    "print({1,2,3,3,5,6,8}) #exapmle of a Set\n",
    "print({\"Name\": \"Sufiyan\", \"Country\": \"Nigeria\"}) #Exampleof a Dictionary"
   ]
  },
  {
   "cell_type": "code",
   "execution_count": 11,
   "metadata": {},
   "outputs": [
    {
     "name": "stdout",
     "output_type": "stream",
     "text": [
      "9.433981132056603\n"
     ]
    }
   ],
   "source": [
    "#Question 2: Eucleadian Distance\n",
    "print((((10-2)**2)+((8-3)**2))**(1/2))"
   ]
  },
  {
   "cell_type": "code",
   "execution_count": null,
   "metadata": {},
   "outputs": [],
   "source": []
  }
 ],
 "metadata": {
  "kernelspec": {
   "display_name": "ArewaDataScience",
   "language": "python",
   "name": "python3"
  },
  "language_info": {
   "codemirror_mode": {
    "name": "ipython",
    "version": 3
   },
   "file_extension": ".py",
   "mimetype": "text/x-python",
   "name": "python",
   "nbconvert_exporter": "python",
   "pygments_lexer": "ipython3",
   "version": "3.9.13"
  }
 },
 "nbformat": 4,
 "nbformat_minor": 2
}
