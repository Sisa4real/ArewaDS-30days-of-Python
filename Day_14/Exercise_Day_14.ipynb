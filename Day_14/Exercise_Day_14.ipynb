{
 "cells": [
  {
   "cell_type": "markdown",
   "id": "5c1fc0fc",
   "metadata": {},
   "source": [
    "#Exercise Level 1"
   ]
  },
  {
   "cell_type": "code",
   "execution_count": 1,
   "id": "a73edb10",
   "metadata": {},
   "outputs": [],
   "source": [
    "\n",
    "countries = ['Estonia', 'Finland', 'Sweden', 'Denmark', 'Norway', 'Iceland']\n",
    "names = ['Asabeneh', 'Lidiya', 'Ermias', 'Abraham']\n",
    "numbers = [1, 2, 3, 4, 5, 6, 7, 8, 9, 10]"
   ]
  },
  {
   "cell_type": "markdown",
   "id": "4ab5f158",
   "metadata": {},
   "source": [
    "1. Explain the difference between map, filter, and reduce.\n",
    "\n",
    "Map ,filter and reduce bring some form of functional programming to python. All three functions take a function as the first argument and an iterable as the second argument of the function. map and filter return an iterable, eg a list , though it actually returns a map object that can be cast into a list. map calls the function in the first argument and returns the result of the function for each of the elements in the iterable. Filter on the other hand, only returns elements that satisfies the condition in the function argument. reduce is a bit different as it returns a single answer i.e. it reduces the iterable to a single answer. It should be noted that map and filter functions return map objects and filter objects respectively. Printing map and filter objects without casting to a list will give the memory location of the object.\n",
    "\n",
    "2. Explain the difference between higher order function, closure and decorator\n",
    "\n",
    "A higher order function is a function that either takes in a function as a parameter or returns a function or both. Decorators and closures are all higher order functions. Decorators return a closure and A closure is what is returned by a decorator. Closures are used to preserve outer scope inside an inner scope,making variables act like they are private. Decorators are convenient ways to make changes to the functionality of code without making changes to the code. A decorator is written as a function closure and implemented by giving the @ operator on top of the function.\n",
    "\n",
    "3. Define a call function before map, filter or reduce, see examples."
   ]
  },
  {
   "cell_type": "code",
   "execution_count": 2,
   "id": "937c8f0b",
   "metadata": {},
   "outputs": [
    {
     "name": "stdout",
     "output_type": "stream",
     "text": [
      "[1, 4, 9, 16, 25]\n"
     ]
    }
   ],
   "source": [
    "# Idefined a function that will be called in the map function\n",
    "\n",
    "def square(x):\n",
    "    return x * x\n",
    "\n",
    "numbers = [1, 2, 3, 4, 5]\n",
    "squared_numbers = list(map(square, numbers))\n",
    "print(squared_numbers)"
   ]
  },
  {
   "cell_type": "code",
   "execution_count": 3,
   "id": "eb469b3c",
   "metadata": {},
   "outputs": [
    {
     "name": "stdout",
     "output_type": "stream",
     "text": [
      "Estonia\n",
      "Finland\n",
      "Sweden\n",
      "Denmark\n",
      "Norway\n",
      "Iceland\n"
     ]
    }
   ],
   "source": [
    "#Question 4\n",
    "for country in countries:\n",
    "    print(country)"
   ]
  },
  {
   "cell_type": "code",
   "execution_count": 4,
   "id": "7671f214",
   "metadata": {},
   "outputs": [
    {
     "name": "stdout",
     "output_type": "stream",
     "text": [
      "Asabeneh\n",
      "Lidiya\n",
      "Ermias\n",
      "Abraham\n"
     ]
    }
   ],
   "source": [
    "#Question 5\n",
    "#Using loop to print each name\n",
    "for name in names:\n",
    "    print(name)"
   ]
  },
  {
   "cell_type": "code",
   "execution_count": 5,
   "id": "33a1824f",
   "metadata": {},
   "outputs": [
    {
     "name": "stdout",
     "output_type": "stream",
     "text": [
      "1\n",
      "2\n",
      "3\n",
      "4\n",
      "5\n"
     ]
    }
   ],
   "source": [
    "#Question 6\n",
    "#Using for loop to print each number\n",
    "\n",
    "for number in numbers:\n",
    "    print(number)"
   ]
  },
  {
   "cell_type": "markdown",
   "id": "df6d975a",
   "metadata": {},
   "source": [
    "# Exercise level : 2"
   ]
  },
  {
   "cell_type": "code",
   "execution_count": 6,
   "id": "2146b26a",
   "metadata": {},
   "outputs": [
    {
     "name": "stdout",
     "output_type": "stream",
     "text": [
      "countries in upper case: ['ESTONIA', 'FINLAND', 'SWEDEN', 'DENMARK', 'NORWAY', 'ICELAND'] \n"
     ]
    }
   ],
   "source": [
    "# Question 1\n",
    "#Use map to create a new list by changing each country to uppercase in the countries list\n",
    "\n",
    "upper_case_countries = list(map(lambda x:x.upper(),countries))\n",
    "print(f'countries in upper case: {upper_case_countries} ')"
   ]
  },
  {
   "cell_type": "code",
   "execution_count": 7,
   "id": "86a84e86",
   "metadata": {},
   "outputs": [
    {
     "name": "stdout",
     "output_type": "stream",
     "text": [
      "The square of the numbers: [1, 4, 9, 16, 25] \n"
     ]
    }
   ],
   "source": [
    "#Question 2\n",
    "#Use map to create a new list by changing each number to its square in the numbers list\n",
    "\n",
    "squared_numbers = list(map(lambda x:x**2,numbers))\n",
    "print(f'The square of the numbers: {squared_numbers} ')"
   ]
  },
  {
   "cell_type": "code",
   "execution_count": 8,
   "id": "513a1055",
   "metadata": {},
   "outputs": [
    {
     "name": "stdout",
     "output_type": "stream",
     "text": [
      "Uppercase of the names: ['ASABENEH', 'LIDIYA', 'ERMIAS', 'ABRAHAM'] \n"
     ]
    }
   ],
   "source": [
    "#Question 3\n",
    "#Use map to change each name to uppercase in the names list\n",
    "upper_case_names = list(map(lambda x:x.upper(),names))\n",
    "print(f'Uppercase of the names: {upper_case_names} ')"
   ]
  },
  {
   "cell_type": "code",
   "execution_count": 9,
   "id": "7c1e2efb",
   "metadata": {},
   "outputs": [
    {
     "name": "stdout",
     "output_type": "stream",
     "text": [
      " The countries with land in their name: ['Finland', 'Iceland']\n"
     ]
    }
   ],
   "source": [
    "#Question 4\n",
    "#Use filter to filter out countries containing 'land'.\n",
    "\n",
    "contains_land = list(filter(lambda x:'land' in x,countries))\n",
    "print(f' The countries with land in their name: {contains_land}')"
   ]
  },
  {
   "cell_type": "code",
   "execution_count": 10,
   "id": "f2e4f421",
   "metadata": {},
   "outputs": [
    {
     "name": "stdout",
     "output_type": "stream",
     "text": [
      "The countries with six characters: ['Sweden', 'Norway'] \n"
     ]
    }
   ],
   "source": [
    "#Question 5\n",
    "\n",
    "#Use filter to filter out countries having exactly six characters.\n",
    "\n",
    "six_chars = list(filter(lambda x:len(x)==6,countries))\n",
    "print(f'The countries with six characters: {six_chars} ')"
   ]
  },
  {
   "cell_type": "code",
   "execution_count": 11,
   "id": "8ec11ccd",
   "metadata": {},
   "outputs": [
    {
     "name": "stdout",
     "output_type": "stream",
     "text": [
      "Countries with six or more characters in their names: ['Estonia', 'Finland', 'Sweden', 'Denmark', 'Norway', 'Iceland'] \n"
     ]
    }
   ],
   "source": [
    "#Question 6\n",
    "#Use filter to filter out countries containing six letters and more in the country list.\n",
    "six_or_more_chars = list(filter(lambda x:len(x) >= 6,countries))\n",
    "print(f'Countries with six or more characters in their names: {six_or_more_chars} ')"
   ]
  },
  {
   "cell_type": "code",
   "execution_count": 12,
   "id": "d6271da9",
   "metadata": {},
   "outputs": [
    {
     "name": "stdout",
     "output_type": "stream",
     "text": [
      " Countries starting with E in the list are: ['Estonia']\n"
     ]
    }
   ],
   "source": [
    "#Question 7\n",
    "#Use filter to filter out countries starting with an 'E'\n",
    "\n",
    "starting_with_e = list(filter(lambda x:x.startswith('E'),countries))\n",
    "print(f' Countries starting with E in the list are: {starting_with_e}')"
   ]
  },
  {
   "cell_type": "code",
   "execution_count": 14,
   "id": "44425355",
   "metadata": {},
   "outputs": [
    {
     "name": "stdout",
     "output_type": "stream",
     "text": [
      "264\n"
     ]
    }
   ],
   "source": [
    "#Question 8\n",
    "#Chain two or more list iterators (eg. arr.map(callback).filter(callback).reduce(callback))\n",
    "\n",
    "from functools import reduce\n",
    "\n",
    "numbers = [3, 5, 8, 2, 14]\n",
    "squared_even_numbers_sum = reduce(lambda x, y: x + y, \n",
    "                                   list(filter(lambda x: x % 2 == 0, \n",
    "                                                map(lambda x: x**2, numbers))))\n",
    "print(squared_even_numbers_sum)"
   ]
  },
  {
   "cell_type": "code",
   "execution_count": 15,
   "id": "1d4a5134",
   "metadata": {},
   "outputs": [
    {
     "data": {
      "text/plain": [
       "['3', '5', '8', '2', '14']"
      ]
     },
     "execution_count": 15,
     "metadata": {},
     "output_type": "execute_result"
    }
   ],
   "source": [
    "#Question 9 \n",
    "\n",
    "#Declare a function called get_string_lists which takes a list as a parameter and then returns a list containing only string items.\n",
    "\n",
    "def get_string_lists(list):\n",
    "    return [str(item) for item in list]\n",
    "\n",
    "str_nums = get_string_lists(numbers)\n",
    "str_nums"
   ]
  },
  {
   "cell_type": "code",
   "execution_count": null,
   "id": "2695fcc1",
   "metadata": {},
   "outputs": [],
   "source": [
    "#Question 10\n",
    "#Use reduce to sum all the numbers in the numbers list.\n",
    "\n",
    "from functools import reduce\n",
    "def add(x,y):\n",
    "    return x + y\n",
    "sum_all = reduce(add,numbers)\n",
    "print(f'The sum of {numbers} is {sum_all}')"
   ]
  },
  {
   "cell_type": "code",
   "execution_count": null,
   "id": "44cb0465",
   "metadata": {},
   "outputs": [],
   "source": [
    "#Question 11\n",
    "#Use reduce to concatenate all the countries and to produce this sentence: Estonia, Finland, Sweden, Denmark, Norway, and Iceland are north European countries\n",
    "\n",
    "concat = reduce(lambda x,y:x + ',' + ' '+ y,countries[:-1])\n",
    "print(f'{concat} and {countries[-1]} are North European countries ')"
   ]
  },
  {
   "cell_type": "code",
   "execution_count": 16,
   "id": "0f1f210f",
   "metadata": {},
   "outputs": [],
   "source": [
    "#Question 12\n",
    "#Declare a function called categorize_countries that returns a list of countries with some common pattern (you can find the countries list in this repository as countries.js(eg 'land', 'ia', 'island', 'stan')).\n",
    "\n"
   ]
  },
  {
   "cell_type": "code",
   "execution_count": 17,
   "id": "51d77e33",
   "metadata": {},
   "outputs": [],
   "source": [
    "countries = [\n",
    "  'Afghanistan',\n",
    "  'Albania',\n",
    "  'Algeria',\n",
    "  'Andorra',\n",
    "  'Angola',\n",
    "  'Antigua and Barbuda',\n",
    "  'Argentina',\n",
    "  'Armenia',\n",
    "  'Australia',\n",
    "  'Austria',\n",
    "  'Azerbaijan',\n",
    "  'Bahamas',\n",
    "  'Bahrain',\n",
    "  'Bangladesh',\n",
    "  'Barbados',\n",
    "  'Belarus',\n",
    "  'Belgium',\n",
    "  'Belize',\n",
    "  'Benin',\n",
    "  'Bhutan',\n",
    "  'Bolivia',\n",
    "  'Bosnia and Herzegovina',\n",
    "  'Botswana',\n",
    "  'Brazil',\n",
    "  'Brunei',\n",
    "  'Bulgaria',\n",
    "  'Burkina Faso',\n",
    "  'Burundi',\n",
    "  'Cambodia',\n",
    "  'Cameroon',\n",
    "  'Canada',\n",
    "  'Cape Verde',\n",
    "  'Central African Republic',\n",
    "  'Chad',\n",
    "  'Chile',\n",
    "  'China',\n",
    "  'Colombi',\n",
    "  'Comoros',\n",
    "  'Congo (Brazzaville)',\n",
    "  'Congo',\n",
    "  'Costa Rica',\n",
    "  \"Cote d'Ivoire\",\n",
    "  'Croatia',\n",
    "  'Cuba',\n",
    "  'Cyprus',\n",
    "  'Czech Republic',\n",
    "  'Denmark',\n",
    "  'Djibouti',\n",
    "  'Dominica',\n",
    "  'Dominican Republic',\n",
    "  'East Timor (Timor Timur)',\n",
    "  'Ecuador',\n",
    "  'Egypt',\n",
    "  'El Salvador',\n",
    "  'Equatorial Guinea',\n",
    "  'Eritrea',\n",
    "  'Estonia',\n",
    "  'Ethiopia',\n",
    "  'Fiji',\n",
    "  'Finland',\n",
    "  'France',\n",
    "  'Gabon',\n",
    "  'Gambia, The',\n",
    "  'Georgia',\n",
    "  'Germany',\n",
    "  'Ghana',\n",
    "  'Greece',\n",
    "  'Grenada',\n",
    "  'Guatemala',\n",
    "  'Guinea',\n",
    "  'Guinea-Bissau',\n",
    "  'Guyana',\n",
    "  'Haiti',\n",
    "  'Honduras',\n",
    "  'Hungary',\n",
    "  'Iceland',\n",
    "  'India',\n",
    "  'Indonesia',\n",
    "  'Iran',\n",
    "  'Iraq',\n",
    "  'Ireland',\n",
    "  'Israel',\n",
    "  'Italy',\n",
    "  'Jamaica',\n",
    "  'Japan',\n",
    "  'Jordan',\n",
    "  'Kazakhstan',\n",
    "  'Kenya',\n",
    "  'Kiribati',\n",
    "  'Korea, North',\n",
    "  'Korea, South',\n",
    "  'Kuwait',\n",
    "  'Kyrgyzstan',\n",
    "  'Laos',\n",
    "  'Latvia',\n",
    "  'Lebanon',\n",
    "  'Lesotho',\n",
    "  'Liberia',\n",
    "  'Libya',\n",
    "  'Liechtenstein',\n",
    "  'Lithuania',\n",
    "  'Luxembourg',\n",
    "  'Macedonia',\n",
    "  'Madagascar',\n",
    "  'Malawi',\n",
    "  'Malaysia',\n",
    "  'Maldives',\n",
    "  'Mali',\n",
    "  'Malta',\n",
    "  'Marshall Islands',\n",
    "  'Mauritania',\n",
    "  'Mauritius',\n",
    "  'Mexico',\n",
    "  'Micronesia',\n",
    "  'Moldova',\n",
    "  'Monaco',\n",
    "  'Mongolia',\n",
    "  'Morocco',\n",
    "  'Mozambique',\n",
    "  'Myanmar',\n",
    "  'Namibia',\n",
    "  'Nauru',\n",
    "  'Nepal',\n",
    "  'Netherlands',\n",
    "  'New Zealand',\n",
    "  'Nicaragua',\n",
    "  'Niger',\n",
    "  'Nigeria',\n",
    "  'Norway',\n",
    "  'Oman',\n",
    "  'Pakistan',\n",
    "  'Palau',\n",
    "  'Panama',\n",
    "  'Papua New Guinea',\n",
    "  'Paraguay',\n",
    "  'Peru',\n",
    "  'Philippines',\n",
    "  'Poland',\n",
    "  'Portugal',\n",
    "  'Qatar',\n",
    "  'Romania',\n",
    "  'Russia',\n",
    "  'Rwanda',\n",
    "  'Saint Kitts and Nevis',\n",
    "  'Saint Lucia',\n",
    "  'Saint Vincent',\n",
    "  'Samoa',\n",
    "  'San Marino',\n",
    "  'Sao Tome and Principe',\n",
    "  'Saudi Arabia',\n",
    "  'Senegal',\n",
    "  'Serbia and Montenegro',\n",
    "  'Seychelles',\n",
    "  'Sierra Leone',\n",
    "  'Singapore',\n",
    "  'Slovakia',\n",
    "  'Slovenia',\n",
    "  'Solomon Islands',\n",
    "  'Somalia',\n",
    "  'South Africa',\n",
    "  'Spain',\n",
    "  'Sri Lanka',\n",
    "  'Sudan',\n",
    "  'Suriname',\n",
    "  'Swaziland',\n",
    "  'Sweden',\n",
    "  'Switzerland',\n",
    "  'Syria',\n",
    "  'Taiwan',\n",
    "  'Tajikistan',\n",
    "  'Tanzania',\n",
    "  'Thailand',\n",
    "  'Togo',\n",
    "  'Tonga',\n",
    "  'Trinidad and Tobago',\n",
    "  'Tunisia',\n",
    "  'Turkey',\n",
    "  'Turkmenistan',\n",
    "  'Tuvalu',\n",
    "  'Uganda',\n",
    "  'Ukraine',\n",
    "  'United Arab Emirates',\n",
    "  'United Kingdom',\n",
    "  'United States',\n",
    "  'Uruguay',\n",
    "  'Uzbekistan',\n",
    "  'Vanuatu',\n",
    "  'Vatican City',\n",
    "  'Venezuela',\n",
    "  'Vietnam',\n",
    "  'Yemen',\n",
    "  'Zambia',\n",
    "  'Zimbabwe',\n",
    "]"
   ]
  },
  {
   "cell_type": "code",
   "execution_count": 18,
   "id": "04edccee",
   "metadata": {},
   "outputs": [
    {
     "name": "stdout",
     "output_type": "stream",
     "text": [
      "Countries with \"pattern\":  ['Afghanistan', 'Kazakhstan', 'Kyrgyzstan', 'Pakistan', 'Tajikistan', 'Turkmenistan', 'Uzbekistan']\n"
     ]
    }
   ],
   "source": [
    "def categorize_countries(pattern):\n",
    "    list_countries = []\n",
    "    for country in countries:\n",
    "        if pattern.lower() in country:\n",
    "            list_countries.append(country)\n",
    "    return list_countries\n",
    "\n",
    "print(f'Countries with \"pattern\": ',categorize_countries('stan'))\n"
   ]
  },
  {
   "cell_type": "code",
   "execution_count": 19,
   "id": "a6c6e0a0",
   "metadata": {},
   "outputs": [
    {
     "name": "stdout",
     "output_type": "stream",
     "text": [
      " First ten countries in the countries list: ['Afghanistan', 'Albania', 'Algeria', 'Andorra', 'Angola', 'Antigua and Barbuda', 'Argentina', 'Armenia', 'Australia', 'Austria']\n"
     ]
    }
   ],
   "source": [
    "#Question 14\n",
    "\n",
    "#Declare a get_first_ten_countries function - it returns a list of first ten countries from the countries.js list in the data folder.\n",
    "def get_first_ten_countries():\n",
    "    return countries[:10]\n",
    "\n",
    "print(f' First ten countries in the countries list: {get_first_ten_countries()}')"
   ]
  },
  {
   "cell_type": "code",
   "execution_count": 20,
   "id": "453859d0",
   "metadata": {},
   "outputs": [
    {
     "name": "stdout",
     "output_type": "stream",
     "text": [
      "The last ten countries in the countries list: ['United States', 'Uruguay', 'Uzbekistan', 'Vanuatu', 'Vatican City', 'Venezuela', 'Vietnam', 'Yemen', 'Zambia', 'Zimbabwe']\n"
     ]
    }
   ],
   "source": [
    "#Question 15\n",
    "#Declare a get_last_ten_countries function that returns the last ten countries in the countries list.\n",
    "def get_last_ten_countries():\n",
    "    return countries[-10:]\n",
    "\n",
    "print(f'The last ten countries in the countries list: {get_last_ten_countries()}')"
   ]
  },
  {
   "cell_type": "markdown",
   "id": "8a23c1a4",
   "metadata": {},
   "source": [
    "# Exercise Level 3\n",
    "\n",
    "Use the countries_data.py (https://github.com/Asabeneh/30-Days-Of-Python/blob/master/data/countries-data.py) file and follow the tasks below:\n",
    "\n",
    "1. Sort countries by name, by capital, by population\n",
    "2. Sort out the ten most spoken languages by location.\n",
    "3. Sort out the ten most populated countries."
   ]
  },
  {
   "cell_type": "code",
   "execution_count": null,
   "id": "880f47ca",
   "metadata": {},
   "outputs": [],
   "source": [
    "from country_data import countries_data\n",
    "\n",
    "\n",
    "# Sorting list by name, by capital and by population\n",
    "# by name\n",
    "sorted_list_name = sorted(countries_data,key=lambda d: d['name'])\n",
    "sorted_list_name[-11:] # checking a subset as the list is too large\n",
    "\n",
    "# by capital\n",
    "sorted_list_cap = sorted(countries_data,key=lambda d:d['capital'])\n",
    "sorted_list_cap[-5:]  # checking subset\n",
    "\n",
    "# by population\n",
    "sorted_list_pop = sorted(countries_data,key=lambda d:d['population'])\n",
    "sorted_list_pop[-5:]\n",
    "\n",
    "'''ten most spoken languages by location: hmmm\n",
    "I can get most spoken languages by number of countries the language is spoken in, \n",
    "but I dont understand what is meant by by location'''\n",
    "lang_dict = dict()\n",
    "for i in range(len(countries_data)):\n",
    "    for language in countries_data[i]['languages']:\n",
    "        lang_dict[language] = lang_dict.get(language,0) + 1\n",
    "lang_tpl = sorted(lang_dict.items(),key= lambda x:x[1],reverse=True)\n",
    "lang_tpl[:10]\n",
    "# [('English', 91), ('French', 45), ('Arabic', 25), ('Spanish', 24), ('Portuguese', 9), ('Russian', 9), ('Dutch', 8), ('German', 7), ('Chinese', 5), ('Serbian', 4)]\n",
    "# most spoken languages by the number of countries that language is spoken in\n",
    "\n",
    "# ten most populated countries = sorted_list_pop in descending order, getting a new list\n",
    "pop = sorted(countries_data,key= lambda d:d['population'],reverse=True)\n",
    "top_ten =  pop[:10]\n",
    "top_ten\n",
    "# getting the countries from the top ten\n",
    "top_pop_countries = []\n",
    "for i in range(len(top_ten)):\n",
    "    top_pop_countries.append(top_ten[i]['name'])\n",
    "top_pop_countries"
   ]
  },
  {
   "cell_type": "code",
   "execution_count": null,
   "id": "eced3468",
   "metadata": {},
   "outputs": [],
   "source": []
  },
  {
   "cell_type": "code",
   "execution_count": null,
   "id": "33324877",
   "metadata": {},
   "outputs": [],
   "source": []
  },
  {
   "cell_type": "code",
   "execution_count": null,
   "id": "cb11ca29",
   "metadata": {},
   "outputs": [],
   "source": []
  }
 ],
 "metadata": {
  "kernelspec": {
   "display_name": "Python 3 (ipykernel)",
   "language": "python",
   "name": "python3"
  },
  "language_info": {
   "codemirror_mode": {
    "name": "ipython",
    "version": 3
   },
   "file_extension": ".py",
   "mimetype": "text/x-python",
   "name": "python",
   "nbconvert_exporter": "python",
   "pygments_lexer": "ipython3",
   "version": "3.9.12"
  }
 },
 "nbformat": 4,
 "nbformat_minor": 5
}
