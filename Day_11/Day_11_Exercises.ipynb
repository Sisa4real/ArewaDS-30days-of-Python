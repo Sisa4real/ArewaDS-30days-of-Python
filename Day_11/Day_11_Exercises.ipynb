{
 "cells": [
  {
   "cell_type": "code",
   "execution_count": 10,
   "metadata": {},
   "outputs": [
    {
     "name": "stdout",
     "output_type": "stream",
     "text": [
      "8\n",
      "50.08\n"
     ]
    }
   ],
   "source": [
    "#Day 22 Exercises\n",
    "#1: \n",
    "def add_two_numbers(num1,num2):\n",
    "    total = num1 + num2 \n",
    "    return total\n",
    "print(add_two_numbers(3, 5))\n",
    "\n",
    "#2: \n",
    "#Area of a circle\n",
    "def area_of_circle(r):\n",
    "    pi = 3.13\n",
    "    area = pi * r**2\n",
    "    return area\n",
    "print(area_of_circle(4))\n",
    "\n"
   ]
  },
  {
   "cell_type": "code",
   "execution_count": 15,
   "metadata": {},
   "outputs": [
    {
     "name": "stdout",
     "output_type": "stream",
     "text": [
      "19\n",
      "Error: All items must be numeric.\n"
     ]
    }
   ],
   "source": [
    "#3:\n",
    "def add_all_nums(*nums):\n",
    "    total = 0\n",
    "    for num in nums:\n",
    "        if not isinstance(num, (int, float)):\n",
    "            return \"Error: All items must be numeric.\"\n",
    "        total = total + num\n",
    "    return total\n",
    "print(add_all_nums(1,4,6,8))\n",
    "print(add_all_nums(4,6,9, \"EIGHT\", 4))"
   ]
  },
  {
   "cell_type": "code",
   "execution_count": 23,
   "metadata": {},
   "outputs": [
    {
     "name": "stdout",
     "output_type": "stream",
     "text": [
      "122.0\n",
      "The season is Summer\n"
     ]
    }
   ],
   "source": [
    "#4:\n",
    "def convert_celsius_to_fahrenheit(C):\n",
    "    F = (9/5 * C) + 32\n",
    "    return F\n",
    "print(convert_celsius_to_fahrenheit(50))\n",
    "\n",
    "#5:\n",
    "def check_season(months):\n",
    "    autumn_season = [\"September\", \"October\", \"November\"]\n",
    "    winter_season = [\"December\", \"January\", \"February\"]\n",
    "    spring_season = [\"March\", \"April\", \"May\"]\n",
    "    summer_season = [\"June\", \"July\", \"August\"]\n",
    "    \n",
    "    if user_input in autumn_season:\n",
    "        return(\"The season is Autumn\")\n",
    "    elif user_input in winter_season:\n",
    "        return(\"The season is Winter\")\n",
    "    elif user_input in spring_season:\n",
    "        return(\"The season is Spring\")\n",
    "    else:\n",
    "        return(\"The season is Summer\")\n",
    "\n",
    "\n",
    "print(check_season(input(\"Enter the month to check the season: \")))\n"
   ]
  },
  {
   "cell_type": "code",
   "execution_count": 24,
   "metadata": {},
   "outputs": [
    {
     "data": {
      "text/plain": [
       "0.5"
      ]
     },
     "execution_count": 24,
     "metadata": {},
     "output_type": "execute_result"
    }
   ],
   "source": [
    "def calculate_slope():\n",
    "    x_1 = eval(input(\"Enter your x_1: \"))\n",
    "    x_2 = eval(input(\"Enter your x_2: \"))\n",
    "    y_1 = eval(input(\"Enter your y_1: \"))\n",
    "    y_2 = eval(input(\"Enter your y_2: \"))\n",
    "    slope = (y_2-y_1)/(x_2-x_1)\n",
    "    return slope\n",
    "calculate_slope()"
   ]
  },
  {
   "cell_type": "code",
   "execution_count": 27,
   "metadata": {},
   "outputs": [
    {
     "data": {
      "text/plain": [
       "(-1.9591670002669337, -4.040832999733066)"
      ]
     },
     "execution_count": 27,
     "metadata": {},
     "output_type": "execute_result"
    }
   ],
   "source": [
    "#question 7:\n",
    "def solve_quadratic_eqn(a,b,c):\n",
    "    if a ==0:\n",
    "        return \"ValueError : This is not a quadrati equation\"\n",
    "    discriminant = (b**2) - (4*a*c)\n",
    "    root_1 =  -b + ((((4*a*c)-b**2)**0.5)/(2*a))\n",
    "    root_2 =  -b - ((((4*a*c)-b**2)**0.5)/(2*a))\n",
    "    if discriminant >= 0:\n",
    "        #This implies a real roots\n",
    "        return root_1, root_2\n",
    "    elif discriminant ==0:\n",
    "        #This implies equal roots \n",
    "        return root_1, root_2\n",
    "    else:\n",
    "        #This implies complex roots \n",
    "        return root_1, root_2\n",
    "solve_quadratic_eqn(3,3,4)"
   ]
  },
  {
   "cell_type": "code",
   "execution_count": 32,
   "metadata": {},
   "outputs": [
    {
     "name": "stdout",
     "output_type": "stream",
     "text": [
      "Usman\n",
      "Rabia\n",
      "Baby\n",
      "Jawwad\n",
      "Sulahailat\n"
     ]
    }
   ],
   "source": [
    "def print_list(list):\n",
    "    my_list = [\"Usman\", \"Rabia\",\"Baby\", \"Jawwad\", 'Sulahailat']\n",
    "    for name in my_list:\n",
    "        print(name)\n",
    "print_list([\"Usman\", \"Rabia\",\"Baby\", \"Jawwad\", 'Sulahailat'])"
   ]
  },
  {
   "cell_type": "code",
   "execution_count": 46,
   "metadata": {},
   "outputs": [
    {
     "data": {
      "text/plain": [
       "['Sulahailat', 'Jawwad', 'Baby', 'Rabia', 'Usman']"
      ]
     },
     "execution_count": 46,
     "metadata": {},
     "output_type": "execute_result"
    }
   ],
   "source": [
    "def reverse_list(list):\n",
    "    reverse_list = []\n",
    "    for name in range(len(list)):\n",
    "        reverse_list.append(list[name])\n",
    "    return reverse_list\n",
    "my_list = [\"Usman\", \"Rabia\",\"Baby\", \"Jawwad\", 'Sulahailat']\n",
    "reverse_list(my_list[::-1])"
   ]
  },
  {
   "cell_type": "code",
   "execution_count": 53,
   "metadata": {},
   "outputs": [
    {
     "name": "stdout",
     "output_type": "stream",
     "text": [
      "Musa\n",
      "Usmman\n",
      "Yahya\n",
      "Muhammad\n"
     ]
    }
   ],
   "source": [
    "def capitalized_list():\n",
    "    my_list = [\"musa\", \"usmman\", \"yahya\", \"muhammad\"]\n",
    "    for name in range(len(my_list)):\n",
    "        print((my_list[name].capitalize()))\n",
    "capitalized_list()"
   ]
  },
  {
   "cell_type": "code",
   "execution_count": 62,
   "metadata": {},
   "outputs": [
    {
     "name": "stdout",
     "output_type": "stream",
     "text": [
      "Original list: ['Potato', 'Tomato', 'Mango', 'Milk']\n",
      "New list with added item: ['Potato', 'Tomato', 'Mango', 'Milk', 'Meat']\n"
     ]
    }
   ],
   "source": [
    "def add_item(list, added_item):\n",
    "  \n",
    "\n",
    "  # Create a copy of the original list to avoid modifying it directly\n",
    "  new_list = list[:]\n",
    "\n",
    "  # Append the new item to the copy\n",
    "  new_list.append(added_item)\n",
    "\n",
    "  # Return the new list with the added item\n",
    "  return new_list\n",
    "\n",
    "# Example usage\n",
    "food_staff = ['Potato', 'Tomato', 'Mango', 'Milk']\n",
    "new_list = add_item(food_staff, \"Meat\")\n",
    "\n",
    "print(f\"Original list: {food_staff}\")\n",
    "print(f\"New list with added item: {new_list}\")\n"
   ]
  },
  {
   "cell_type": "code",
   "execution_count": 65,
   "metadata": {},
   "outputs": [
    {
     "name": "stdout",
     "output_type": "stream",
     "text": [
      "Next\n",
      "Next\n"
     ]
    },
    {
     "data": {
      "text/plain": [
       "5050"
      ]
     },
     "execution_count": 65,
     "metadata": {},
     "output_type": "execute_result"
    }
   ],
   "source": [
    "def sum_of_numbers(n):\n",
    "    sum = 0\n",
    "    for nums in range(n+1):\n",
    "        sum +=nums\n",
    "    return sum\n",
    "sum_of_numbers(5)\n",
    "print(\"Next\")\n",
    "sum_of_numbers(10)\n",
    "print(\"Next\")\n",
    "sum_of_numbers(100)"
   ]
  },
  {
   "cell_type": "code",
   "execution_count": 75,
   "metadata": {},
   "outputs": [
    {
     "data": {
      "text/plain": [
       "2500"
      ]
     },
     "execution_count": 75,
     "metadata": {},
     "output_type": "execute_result"
    }
   ],
   "source": [
    "def sum_of_odd(n):\n",
    "    sum = 0\n",
    "    for i in range(n+1):\n",
    "        if i%2 !=0:\n",
    "            sum +=i\n",
    "    return sum\n",
    "sum_of_odd(100)"
   ]
  },
  {
   "cell_type": "code",
   "execution_count": 76,
   "metadata": {},
   "outputs": [
    {
     "data": {
      "text/plain": [
       "2550"
      ]
     },
     "execution_count": 76,
     "metadata": {},
     "output_type": "execute_result"
    }
   ],
   "source": [
    "def sum_of_odd(n):\n",
    "    sum = 0\n",
    "    for i in range(n+1):\n",
    "        if i%2 ==0:\n",
    "            sum +=i\n",
    "    return sum\n",
    "sum_of_odd(100)"
   ]
  },
  {
   "cell_type": "code",
   "execution_count": 85,
   "metadata": {},
   "outputs": [
    {
     "name": "stdout",
     "output_type": "stream",
     "text": [
      "Number of odd digits: 50\n",
      "Number of even digits: 51\n"
     ]
    }
   ],
   "source": [
    "#Level 2:\n",
    "def even_and_odd(n):\n",
    "    count_even= 0\n",
    "    count_odd = 0\n",
    "    for num in range(n+1):\n",
    "        if num %2 == 0:\n",
    "            count_even +=1   \n",
    "        else:\n",
    "            count_odd +=1\n",
    "\n",
    "    return (count_even, count_odd)\n",
    "\n",
    "\n",
    "count_even, count_odd = even_and_odd(100)\n",
    "\n",
    "# Print the results\n",
    "print(f\"Number of odd digits: {count_odd}\") \n",
    "print(f\"Number of even digits: {count_even}\")\n",
    "   "
   ]
  },
  {
   "cell_type": "code",
   "execution_count": 86,
   "metadata": {},
   "outputs": [
    {
     "name": "stdout",
     "output_type": "stream",
     "text": [
      "The factorial of 5 is: 120\n"
     ]
    }
   ],
   "source": [
    "def factorial(n):\n",
    "  \n",
    "\n",
    "  # Check for invalid input\n",
    "  if n < 0:\n",
    "    print(\"Factorial is not defined for negative numbers.\")\n",
    "\n",
    "  # Base case for factorial of 0\n",
    "  if n == 0:\n",
    "    return 1\n",
    "\n",
    "  # Recursive case for calculating factorial\n",
    "  else:\n",
    "    return n * factorial(n - 1)\n",
    "\n",
    "# Example usage\n",
    "number = 5\n",
    "factorial_value = factorial(number)\n",
    "\n",
    "print(f\"The factorial of {number} is: {factorial_value}\")\n"
   ]
  },
  {
   "cell_type": "code",
   "execution_count": 87,
   "metadata": {},
   "outputs": [
    {
     "name": "stdout",
     "output_type": "stream",
     "text": [
      "11 is a prime number.\n"
     ]
    }
   ],
   "source": [
    "#Level 3:\n",
    "def is_prime(n):\n",
    " \n",
    "\n",
    "  # Handle edge cases\n",
    "  if n <= 1:\n",
    "    return False\n",
    "\n",
    "  # Loop through potential divisors starting from 2\n",
    "  for i in range(2, int(n**0.5) + 1):\n",
    "    if n % i == 0:\n",
    "      return False\n",
    "\n",
    "  # If no divisors found, the number is prime\n",
    "  return True\n",
    "\n",
    "# Example usage\n",
    "number = 11\n",
    "\n",
    "if is_prime(number):\n",
    "  print(f\"{number} is a prime number.\")\n",
    "else:\n",
    "  print(f\"{number} is not a prime number.\")\n"
   ]
  },
  {
   "cell_type": "code",
   "execution_count": 90,
   "metadata": {},
   "outputs": [
    {
     "name": "stdout",
     "output_type": "stream",
     "text": [
      "All unique in data1: True\n",
      "All unique in data2: False\n"
     ]
    }
   ],
   "source": [
    "def all_unique(data):\n",
    "  \n",
    "\n",
    "  return len(set(data)) == len(data)\n",
    "\n",
    "# Example usage\n",
    "data1 = [1, 2, 3, 4, 5]\n",
    "data2 = [1, 2, 3, 4, 2]\n",
    "\n",
    "print(f\"All unique in data1: {all_unique(data1)}\")\n",
    "print(f\"All unique in data2: {all_unique(data2)}\")\n"
   ]
  },
  {
   "cell_type": "code",
   "execution_count": 91,
   "metadata": {},
   "outputs": [
    {
     "name": "stdout",
     "output_type": "stream",
     "text": [
      "All same type in data1: True\n",
      "All same type in data2: True\n",
      "All same type in data3: True\n",
      "All same type in data4: False\n"
     ]
    }
   ],
   "source": [
    "def all_same_type(data):\n",
    "  \n",
    "\n",
    "  if len(data) == 0:\n",
    "    return True  # Empty list is considered all same type\n",
    "\n",
    "  # Check the type of the first element and compare it to all other elements\n",
    "  data_type = type(data[0])\n",
    "  for item in data:\n",
    "    if type(item) != data_type:\n",
    "      return False\n",
    "\n",
    "  return True\n",
    "\n",
    "# Example usage\n",
    "data1 = [1, 2, 3, 4, 5]  # All integers\n",
    "data2 = [1.0, 2.0, 3.0]  # All floats\n",
    "data3 = [\"apple\", \"banana\", \"orange\"]  # All strings\n",
    "data4 = [1, \"apple\", True]  # Mixed types\n",
    "\n",
    "print(f\"All same type in data1: {all_same_type(data1)}\")\n",
    "print(f\"All same type in data2: {all_same_type(data2)}\")\n",
    "print(f\"All same type in data3: {all_same_type(data3)}\")\n",
    "print(f\"All same type in data4: {all_same_type(data4)}\")\n"
   ]
  },
  {
   "cell_type": "code",
   "execution_count": null,
   "metadata": {},
   "outputs": [],
   "source": []
  },
  {
   "cell_type": "code",
   "execution_count": null,
   "metadata": {},
   "outputs": [],
   "source": []
  }
 ],
 "metadata": {
  "kernelspec": {
   "display_name": "ArewaDataScience",
   "language": "python",
   "name": "python3"
  },
  "language_info": {
   "codemirror_mode": {
    "name": "ipython",
    "version": 3
   },
   "file_extension": ".py",
   "mimetype": "text/x-python",
   "name": "python",
   "nbconvert_exporter": "python",
   "pygments_lexer": "ipython3",
   "version": "3.10.11"
  }
 },
 "nbformat": 4,
 "nbformat_minor": 2
}
