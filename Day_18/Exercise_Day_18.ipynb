{
 "cells": [
  {
   "cell_type": "markdown",
   "id": "9c29f32f",
   "metadata": {},
   "source": [
    "# Exercise level 1"
   ]
  },
  {
   "cell_type": "markdown",
   "id": "d994439b",
   "metadata": {},
   "source": [
    "#Question 1\n",
    "\n",
    "What is the most frequent word in the following paragraph?\n",
    "\n",
    "paragraph = 'I love teaching. If you do not love teaching what else can you love. I love Python if you do not love something which can give you all the capabilities to develop an application what else can you love.'\n",
    "\n"
   ]
  },
  {
   "cell_type": "code",
   "execution_count": 1,
   "id": "010bf6a7",
   "metadata": {},
   "outputs": [
    {
     "data": {
      "text/plain": [
       "('love', 6)"
      ]
     },
     "execution_count": 1,
     "metadata": {},
     "output_type": "execute_result"
    }
   ],
   "source": [
    "import re\n",
    "paragraph = 'I love teaching. If you do not love teaching what else can you love. I love Python if you do not love something which can give you all the capabilities to develop an application what else can you love.'\n",
    "words = re.sub(r'[.]', '', paragraph).split(' ')\n",
    "\"\"\"words = paragraph.replace('.','').split(' ')\"\"\"\n",
    "dict = {}\n",
    "for word in words:\n",
    "\tdict[word] = dict.get(word,0) + 1\n",
    "sorted_it = sorted(dict.items(), key = lambda a:a[1], reverse = True)\n",
    "sorted_it[0]"
   ]
  },
  {
   "cell_type": "markdown",
   "id": "cd3dca08",
   "metadata": {},
   "source": [
    "Question (2)\n",
    "\n",
    "The position of some particles on the horizontal x-axis are -12, -4, -3 and -1 in the negative direction, 0 at origin, 4 and 8 in the positive direction. Extract these numbers from this whole text and find the distance between the two furthest particles.\n",
    "\n",
    "points = ['-1', '2', '-4', '-3', '-1', '0', '4', '8']\n",
    "sorted_points = [-4, -3, -1, -1, 0, 2, 4, 8]\n",
    "distance = 8 -(-4) # 12"
   ]
  },
  {
   "cell_type": "code",
   "execution_count": 2,
   "id": "f0e93dc7",
   "metadata": {},
   "outputs": [
    {
     "name": "stdout",
     "output_type": "stream",
     "text": [
      "points before sorting: ['-1', '2', '-4', '-3', '-1', '0', '4', '8']\n",
      "points after sorting: ['-1', '-1', '-3', '-4', '0', '2', '4', '8']\n",
      "numbers: [-1, -1, -3, -4, 0, 2, 4, 8]\n",
      "[-4, -3, -1, -1, 0, 2, 4, 8]\n",
      "The distance between the two furthest particles is 12 \n"
     ]
    }
   ],
   "source": [
    "import re\n",
    "string = 'The position of some particles on the horizontal x-axis are -12, -4, -3 and -1 in the negative direction, 0 at origin, 4 and 8 in the positive direction. Extract these numbers from this whole text and find the distance between the two furthest particles.'\n",
    "points = re.findall(r'-\\d|\\d',string)\n",
    "print(f'points before sorting: {points}')   \n",
    "points.sort()\n",
    "print(f'points after sorting: {points}')   \n",
    "# Getting the numbers as integers from strings\n",
    "numbers = [int(j) for j in points]\n",
    "print(f'numbers: {numbers}')\n",
    "numbers.sort()  # sorting from highest to lowest\n",
    "print(numbers)\n",
    "distance = numbers[-1] - numbers[0]\n",
    "\n",
    "print(f'The distance between the two furthest particles is {distance} ')"
   ]
  },
  {
   "cell_type": "markdown",
   "id": "7a34fd25",
   "metadata": {},
   "source": [
    "# Exercise Level 2"
   ]
  },
  {
   "cell_type": "markdown",
   "id": "03575d10",
   "metadata": {},
   "source": [
    "Question 1\n",
    "\n",
    "Write a pattern which identifies if a string is a valid python variable\n",
    "is_valid_variable('first_name') # True\n",
    "is_valid_variable('first-name') # False\n",
    "is_valid_variable('1first_name') # False\n",
    "is_valid_variable('firstname') # True"
   ]
  },
  {
   "cell_type": "code",
   "execution_count": 3,
   "id": "3221a2ee",
   "metadata": {},
   "outputs": [
    {
     "name": "stdout",
     "output_type": "stream",
     "text": [
      "Valid\n",
      "Not Valid\n",
      "Not Valid\n",
      "Valid\n"
     ]
    }
   ],
   "source": [
    "pattern = r\"^[_a-z]\\w*$\"\n",
    "def is_valid_variable(name):\n",
    "    '''Identify if a string is a valid Python variable'''\n",
    "    pattern = r\"^[_a-z]\\w*$\"\n",
    "    if not re.match(pattern,name):\n",
    "        print('Not Valid')\n",
    "    else:\n",
    "        print('Valid')\n",
    "\n",
    "is_valid_variable('first_name') \n",
    "is_valid_variable('first-name') \n",
    "is_valid_variable('1first_name') \n",
    "is_valid_variable('firstname')"
   ]
  },
  {
   "cell_type": "markdown",
   "id": "4ba15e35",
   "metadata": {},
   "source": [
    "# Exercise level 3"
   ]
  },
  {
   "cell_type": "markdown",
   "id": "05c27342",
   "metadata": {},
   "source": [
    "Question 1\n",
    "\n",
    "Clean the following text. After cleaning, count three most frequent words in the string.\n",
    "\n",
    "sentence = '''%I \n",
    "is nothing; &as& mo@re rewarding as educa@ting &and& @emp%o@wering peo@ple. ;I found tea@ching m%o@re interesting tha@n any other %jo@bs. %Do@es thi%s mo@tivate yo@u to be a tea@cher!?'''\n",
    "\n",
    "print(clean_text(sentence)); I am a teacher and I love teaching There is nothing as more rewarding as educating and empowering people I found teaching more interesting than any other jobs Does this motivate you to be a teacher print(most_frequent_words(cleaned_text)) # [(3, 'I'), (2, 'teaching'), (2, 'teacher')]"
   ]
  },
  {
   "cell_type": "code",
   "execution_count": 4,
   "id": "abe14e80",
   "metadata": {},
   "outputs": [
    {
     "data": {
      "text/plain": [
       "[(3, 'I'), (2, 'teaching'), (2, 'teacher')]"
      ]
     },
     "execution_count": 4,
     "metadata": {},
     "output_type": "execute_result"
    }
   ],
   "source": [
    "sentence = '''%I $am@% a %tea@cher%, &and& I lo%#ve %tea@ching%;. There $is nothing; &as& mo@re rewarding as educa@ting &and& @emp%o@wering peo@ple. ;I found tea@ching m%o@re interesting tha@n any other %jo@bs. %Do@es thi%s mo@tivate yo@u to be a tea@cher!?'''\n",
    "pattern = r'[^\\w\\s]'\n",
    "clean_sentence = re.sub(pattern,'',sentence)\n",
    "\n",
    "def most_frequent_words(text):\n",
    "    '''Returns the three most frequent words in clean sentences i.e. sentences without punctuation marks.\n",
    "    '''\n",
    "    words = text.split()\n",
    "    d = {}\n",
    "    for word in words:\n",
    "        d[word] = d.get(word,0) + 1\n",
    "    list = [(val,key) for key,val in d.items()]\n",
    "    list.sort(reverse=True)\n",
    "    return list[:3]\n",
    "\n",
    "most_frequent_words(clean_sentence)"
   ]
  },
  {
   "cell_type": "code",
   "execution_count": null,
   "id": "a1c4f0b4",
   "metadata": {},
   "outputs": [],
   "source": []
  },
  {
   "cell_type": "code",
   "execution_count": null,
   "id": "17a642f6",
   "metadata": {},
   "outputs": [],
   "source": []
  },
  {
   "cell_type": "code",
   "execution_count": null,
   "id": "3370bd6e",
   "metadata": {},
   "outputs": [],
   "source": []
  }
 ],
 "metadata": {
  "kernelspec": {
   "display_name": "Python 3 (ipykernel)",
   "language": "python",
   "name": "python3"
  },
  "language_info": {
   "codemirror_mode": {
    "name": "ipython",
    "version": 3
   },
   "file_extension": ".py",
   "mimetype": "text/x-python",
   "name": "python",
   "nbconvert_exporter": "python",
   "pygments_lexer": "ipython3",
   "version": "3.9.12"
  }
 },
 "nbformat": 4,
 "nbformat_minor": 5
}
