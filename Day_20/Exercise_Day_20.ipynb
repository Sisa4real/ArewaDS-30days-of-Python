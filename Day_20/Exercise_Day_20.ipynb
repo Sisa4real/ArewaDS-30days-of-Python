{
 "cells": [
  {
   "cell_type": "markdown",
   "id": "71d09a3f",
   "metadata": {},
   "source": [
    "1. Read this url and find the 10 most frequent words. romeo_and_juliet = 'http://www.gutenberg.org/files/1112/1112.txt'\n"
   ]
  },
  {
   "cell_type": "code",
   "execution_count": null,
   "id": "e182f02c",
   "metadata": {},
   "outputs": [],
   "source": [
    "# importing required modules\n",
    "import re\n",
    "import requests"
   ]
  },
  {
   "cell_type": "code",
   "execution_count": null,
   "id": "ea6c0d70",
   "metadata": {},
   "outputs": [],
   "source": [
    "url = 'http://www.gutenberg.org/files/1112/1112.txt'\n",
    "response = requests.get(url)\n",
    "print(f' response object: {response}')\n",
    "print(f' response status code: {response.status_code}')\n",
    "print(f' response headers: {response.headers}')\n",
    "text = response.text\n",
    "text = re.sub(r'[^\\w\\s]','',text)\n",
    "words = text.split()\n",
    "words_dict = {}\n",
    "for word in words:\n",
    "    words_dict[word] = words_dict.get(word,0) + 1\n",
    "words_sorted = sorted(words_dict.items(),key=lambda x:x[1],reverse=True)\n",
    "result = [(word[1],word[0]) for word in words_sorted]\n",
    "print(f' result: {result[:10]}') # it worked, yay!!!!!"
   ]
  },
  {
   "cell_type": "code",
   "execution_count": null,
   "id": "bd83b219",
   "metadata": {},
   "outputs": [],
   "source": [
    "Read the cats API and cats_api = 'https://api.thecatapi.com/v1/breeds' and find :\n",
    "the min, max, mean, median, standard deviation of cats' weight in metric units.\n",
    "the min, max, mean, median, standard deviation of cats' lifespan in years.\n",
    "Create a frequency table of country and breed of cats\n"
   ]
  },
  {
   "cell_type": "code",
   "execution_count": null,
   "id": "b5222b54",
   "metadata": {},
   "outputs": [],
   "source": [
    "'''getting the list of the weights of all the cats in metric units, \n",
    "has upper and lower limits'''\n",
    "cat_weight_metric = []\n",
    "for i in range(len(cat_breeds)):\n",
    "  cat_weight_metric.append(cat_breeds[i]['weight']['metric'])\n",
    "cat_weight_metric[:5]"
   ]
  },
  {
   "cell_type": "code",
   "execution_count": null,
   "id": "8bbbd7ff",
   "metadata": {},
   "outputs": [],
   "source": [
    "# Doing same for lifespan\n",
    "cat_weight_lifespan = []\n",
    "for i in range(len(cat_breeds)):\n",
    "  cat_weight_lifespan.append(cat_breeds[i]['life_span'])\n",
    "cat_weight_lifespan[:5]"
   ]
  },
  {
   "cell_type": "code",
   "execution_count": null,
   "id": "9ae6a71d",
   "metadata": {},
   "outputs": [],
   "source": [
    "# getting a function to make them integers and get two lists of upper and lower limits\n",
    "def convert_to_numbers(string):\n",
    "    start, end = map(int, string.split(\" - \"))\n",
    "    return start, end\n",
    "\n",
    "# converting the weights to numbers using the function to get upper and lower weight limits for each, two lists:\n",
    "cat_weight_metric_number = list(map(convert_to_numbers,cat_weight_metric))\n",
    "lower_cat_weight_metric,upper_cat_weight_metric = [i[0] for i in cat_weight_metric_number],[i[1]for i in cat_weight_metric_number]\n",
    "\n",
    "# same for lifespans in years\n",
    "cat_lifespan_number = list(map(convert_to_numbers,cat_weight_lifespan))\n",
    "lower_cat_lifespan,upper_cat_lifespan = [i[0] for i in cat_lifespan_number],[i[1]for i in cat_lifespan_number]"
   ]
  },
  {
   "cell_type": "code",
   "execution_count": null,
   "id": "c33de16f",
   "metadata": {},
   "outputs": [],
   "source": [
    "# Using statistics module to get the descriptive statistics (mean,median and std) \n",
    "# for the lower and upper limits, can use the min and max list methods\n",
    "import statistics as stats\n",
    "print(f'Max of upper limit of cat\\'s weights in metric units is: {max(upper_cat_weight_metric)} ')\n",
    "print(f'Min of upper limit of cat\\'s weights in metric units is: {min(upper_cat_weight_metric)} ')\n",
    "print(f'Mean of upper limit of cat\\'s weights in metric units is: {stats.mean(upper_cat_weight_metric)} ')\n",
    "print(f'Median of upper limit of cat\\'s weights in metric units is: {stats.median(upper_cat_weight_metric)} ')\n",
    "print(f'Std of upper limit of cat\\'s weights in metric units is: {stats.stdev(upper_cat_weight_metric)} ')\n",
    "\n",
    "# Will use the function below to get the parameters\n",
    "def stats_params(list):\n",
    "    '''\n",
    "    Takes a list and returns a dictionary of certain statistics parameters of the list\n",
    "    '''\n",
    "    import statistics as stats\n",
    "    stat = {}\n",
    "    stat['Max'] = max(list)\n",
    "    stat['Minimum'] = min(list)\n",
    "    stat['Mean'] = stats.mean(list)\n",
    "    stat['Median'] = stats.median(list)\n",
    "    stat['std'] = stats.stdev(list)\n",
    "    return stat\n",
    "print(stats_params(upper_cat_weight_metric))"
   ]
  },
  {
   "cell_type": "code",
   "execution_count": null,
   "id": "c5e29180",
   "metadata": {},
   "outputs": [],
   "source": [
    "print(f'Upper limit of cat weights in metric units: {stats_params(upper_cat_weight_metric)}, lower limit of cat weights in metric units: {stats_params(lower_cat_weight_metric)},upper limit of cat lifespan in years : {stats_params(upper_cat_lifespan)},lower limits of cat lifespan in years: {stats_params(lower_cat_lifespan)}')\n"
   ]
  },
  {
   "cell_type": "code",
   "execution_count": null,
   "id": "2b567d30",
   "metadata": {},
   "outputs": [],
   "source": [
    "answer_dict = {}\n",
    "answer_dict['Upper limit stats of cat weights in metric units'] = stats_params(upper_cat_weight_metric)\n",
    "answer_dict['Lower limit stats of cat weights in metric units'] = stats_params(lower_cat_weight_metric)\n",
    "answer_dict['Upper limit stat of cat lifespan in years'] = stats_params(upper_cat_lifespan)\n",
    "answer_dict['Lower limit stats of cat lifespan in years'] = stats_params(lower_cat_lifespan)\n",
    "print(f'Answer to first two sub questions of question 2: {answer_dict}')"
   ]
  },
  {
   "cell_type": "code",
   "execution_count": null,
   "id": "be7a3c76",
   "metadata": {},
   "outputs": [],
   "source": [
    "# Third sub-question\n",
    "from collections import defaultdict\n",
    "# Getting the frequency table \n",
    "frequency_table = defaultdict(int)\n",
    "breed_info = {}\n",
    "for breed in cat_breeds:\n",
    "    breed_info[breed['name']] = breed['origin']\n",
    "for breed in breed_info.values():\n",
    "    frequency_table[breed] += 1\n",
    "\n",
    "print(frequency_table)"
   ]
  },
  {
   "cell_type": "markdown",
   "id": "01529fe6",
   "metadata": {},
   "source": [
    "4. UCI is one of the most common places to get data sets for data science and machine learning. Read the content of UCI (https://archive.ics.uci.edu/ml/datasets.php). Without additional libraries it will be difficult, so you may try it with BeautifulSoup4"
   ]
  },
  {
   "cell_type": "code",
   "execution_count": null,
   "id": "747dae89",
   "metadata": {},
   "outputs": [],
   "source": [
    "import requests\n",
    "from bs4 import BeautifulSoup\n",
    "\n",
    "url = 'https://archive.ics.uci.edu/ml/datasets.php'\n",
    "\n",
    "# Send a GET request to the URL and retrieve the HTML content\n",
    "response = requests.get(url)\n",
    "html_content = response.content\n",
    "\n",
    "# Parse the HTML content using BeautifulSoup4\n",
    "soup = BeautifulSoup(html_content, 'html.parser')\n",
    "\n",
    "# Find the table that contains the list of data sets\n",
    "table = soup.find('table', {'border': '1'})\n",
    "\n",
    "# Extract the name of each data set from the table rows, for now, a humble goal due to my current limited skills\n",
    "rows = table.find_all('tr')[1:]\n",
    "for row in rows:\n",
    "    cells = row.find_all('td')\n",
    "    name = cells[0].text.strip()\n",
    "    # Gives the names of all the datasets in the table\n",
    "    print(f'{name}')"
   ]
  },
  {
   "cell_type": "code",
   "execution_count": null,
   "id": "1bf96cdf",
   "metadata": {},
   "outputs": [],
   "source": []
  },
  {
   "cell_type": "code",
   "execution_count": null,
   "id": "9eec525d",
   "metadata": {},
   "outputs": [],
   "source": []
  }
 ],
 "metadata": {
  "kernelspec": {
   "display_name": "Python 3 (ipykernel)",
   "language": "python",
   "name": "python3"
  },
  "language_info": {
   "codemirror_mode": {
    "name": "ipython",
    "version": 3
   },
   "file_extension": ".py",
   "mimetype": "text/x-python",
   "name": "python",
   "nbconvert_exporter": "python",
   "pygments_lexer": "ipython3",
   "version": "3.9.12"
  }
 },
 "nbformat": 4,
 "nbformat_minor": 5
}
