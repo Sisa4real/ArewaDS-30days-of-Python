{
 "cells": [
  {
   "cell_type": "code",
   "execution_count": 1,
   "metadata": {},
   "outputs": [],
   "source": [
    "#Welcome to Day 9 Exercise Solutions"
   ]
  },
  {
   "cell_type": "code",
   "execution_count": 6,
   "metadata": {},
   "outputs": [
    {
     "name": "stdout",
     "output_type": "stream",
     "text": [
      "You need 1 more years to learn to drive\n"
     ]
    }
   ],
   "source": [
    "#Question 1: \n",
    "driving_age = int(input(\"Enter your age here: \"))\n",
    "if driving_age > 18:\n",
    "    print(\"You are old enough to learn to drive\")\n",
    "else:\n",
    "    print(\"You need {} more years to learn to drive\".format(18-driving_age))"
   ]
  },
  {
   "cell_type": "code",
   "execution_count": 9,
   "metadata": {},
   "outputs": [
    {
     "name": "stdout",
     "output_type": "stream",
     "text": [
      "You are 5 years older than me.\n"
     ]
    }
   ],
   "source": [
    "#Question 2:\n",
    "my_age = int(input(\"Enter my age: \"))\n",
    "your_age = int(input(\"Enter your age here: \"))\n",
    "if my_age < your_age:\n",
    "    if your_age-my_age == 1:\n",
    "        print(\"You are {}  year older than me.\".format(your_age-my_age))\n",
    "    else:\n",
    "        print(\"You are {} years older than me.\".format(your_age-my_age))\n",
    "else:\n",
    "    print(\"I am {} year(s) older than you.\".format(my_age-your_age))\n"
   ]
  },
  {
   "cell_type": "code",
   "execution_count": null,
   "metadata": {},
   "outputs": [],
   "source": [
    " "
   ]
  }
 ],
 "metadata": {
  "kernelspec": {
   "display_name": "ArewaDataScience",
   "language": "python",
   "name": "python3"
  },
  "language_info": {
   "codemirror_mode": {
    "name": "ipython",
    "version": 3
   },
   "file_extension": ".py",
   "mimetype": "text/x-python",
   "name": "python",
   "nbconvert_exporter": "python",
   "pygments_lexer": "ipython3",
   "version": "3.10.11"
  }
 },
 "nbformat": 4,
 "nbformat_minor": 2
}
