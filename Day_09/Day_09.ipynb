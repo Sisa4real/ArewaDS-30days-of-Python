{
 "cells": [
  {
   "cell_type": "code",
   "execution_count": 1,
   "metadata": {},
   "outputs": [],
   "source": [
    "#Welcome to Day 9 Exercise Solutions"
   ]
  },
  {
   "cell_type": "code",
   "execution_count": 6,
   "metadata": {},
   "outputs": [
    {
     "name": "stdout",
     "output_type": "stream",
     "text": [
      "You need 1 more years to learn to drive\n"
     ]
    }
   ],
   "source": [
    "#Question 1: \n",
    "driving_age = int(input(\"Enter your age here: \"))\n",
    "if driving_age > 18:\n",
    "    print(\"You are old enough to learn to drive\")\n",
    "else:\n",
    "    print(\"You need {} more years to learn to drive\".format(18-driving_age))"
   ]
  },
  {
   "cell_type": "code",
   "execution_count": 9,
   "metadata": {},
   "outputs": [
    {
     "name": "stdout",
     "output_type": "stream",
     "text": [
      "You are 5 years older than me.\n"
     ]
    }
   ],
   "source": [
    "#Question 2:\n",
    "my_age = int(input(\"Enter my age: \"))\n",
    "your_age = int(input(\"Enter your age here: \"))\n",
    "if my_age < your_age:\n",
    "    if your_age-my_age == 1:\n",
    "        print(\"You are {}  year older than me.\".format(your_age-my_age))\n",
    "    else:\n",
    "        print(\"You are {} years older than me.\".format(your_age-my_age))\n",
    "else:\n",
    "    print(\"I am {} year(s) older than you.\".format(my_age-your_age))\n"
   ]
  },
  {
   "cell_type": "code",
   "execution_count": 1,
   "metadata": {},
   "outputs": [
    {
     "name": "stdout",
     "output_type": "stream",
     "text": [
      "4 is greater than 3\n"
     ]
    }
   ],
   "source": [
    " #Question 3: \n",
    "num_1 = eval(input(\"Entet the first number here: \"))\n",
    "num_2 = eval(input(\"Enter the second number here: \"))\n",
    "if num_1 > num_2:\n",
    "    print(\"{} is greater than {}\".format(num_1, num_2))\n",
    "elif num_1 < num_2:\n",
    "    print(\"{} is smaller  than {}\".format(num_1,num_2))\n",
    "else:\n",
    "    print(\"{} is equal to {}\".format(num_1, num_2))"
   ]
  },
  {
   "cell_type": "code",
   "execution_count": 16,
   "metadata": {},
   "outputs": [
    {
     "name": "stdout",
     "output_type": "stream",
     "text": [
      "You have secured an F Grade\n"
     ]
    }
   ],
   "source": [
    "#Question 4\n",
    "#A program for grading system\n",
    "score = int(input(\"Enter your grade: \"))\n",
    "\n",
    "if score >= 80 and score <= 100:\n",
    "    print(\"You have secured an A Grade\")\n",
    "elif score >= 70 and score <= 79:\n",
    "    print(\"You have secured a B Grade\")\n",
    "elif score >= 60 and score <= 69:\n",
    "    print(\"You have secured a C Grade\")\n",
    "elif score >= 50 and score <= 59:\n",
    "    print(\"You have secured a D Grade\")\n",
    "elif score >= 0 and score <=49:\n",
    "    print(\"You have secured an F Grade\")\n",
    "else:\n",
    "    print(\"You check your score again\")"
   ]
  },
  {
   "cell_type": "code",
   "execution_count": 19,
   "metadata": {},
   "outputs": [
    {
     "name": "stdout",
     "output_type": "stream",
     "text": [
      "The season is Summer\n"
     ]
    }
   ],
   "source": [
    "#Program for season\n",
    "autumn_season = [\"September\", \"October\", \"November\"]\n",
    "winter_season = [\"December\", \"January\", \"February\"]\n",
    "spring_season = [\"March\", \"April\", \"May\"]\n",
    "summer_season = [\"June\", \"July\", \"August\"]\n",
    "\n",
    "user_input = input(\"Enter the month to check the season: \")\n",
    "if user_input in autumn_season:\n",
    "    print(\"The season is Autumn\")\n",
    "elif user_input in winter_season:\n",
    "    print(\"The season is Winter\")\n",
    "elif user_input in spring_season:\n",
    "    print(\"The season is Spring\")\n",
    "else:\n",
    "    print(\"The season is Summer\")"
   ]
  },
  {
   "cell_type": "code",
   "execution_count": 24,
   "metadata": {},
   "outputs": [
    {
     "name": "stdout",
     "output_type": "stream",
     "text": [
      "['banana', 'orange', 'mango', 'lemon', 'cashew']\n"
     ]
    }
   ],
   "source": [
    "#Fruits Checking\n",
    "fruits = ['banana', 'orange', 'mango', 'lemon']\n",
    "user_input = input(\"Enter the name of the  fruit you want to check: \")\n",
    "if user_input not in fruits:\n",
    "    fruits.append(user_input)\n",
    "    print(fruits)\n",
    "else:\n",
    "    print(\"The fruit {} exists in the list\".format(user_input))"
   ]
  },
  {
   "cell_type": "code",
   "execution_count": 31,
   "metadata": {},
   "outputs": [],
   "source": [
    "#Level 3: Challenge \n",
    "person={\n",
    "    'first_name': 'Sufiyan',\n",
    "    'last_name': 'Ibrahim',\n",
    "    'age': 250,\n",
    "    'country': 'Nigeria',\n",
    "    'is_marred': False,\n",
    "    'skills': ['JavaScript', 'HTML', 'CSS', 'TensorFlow', 'Python'],\n",
    "    'address': {\n",
    "        'street': 'Damari Road',\n",
    "        'zipcode': '80041'\n",
    "    }\n",
    "    }\n",
    "#Checking if the person has skills key in the dictionary\n",
    "if \"skils\" in person:\n",
    "    result =  (person[\"skills\"][2])\n",
    "    print(result)\n",
    "if \"skils\" in person:\n",
    "    if \"python\" in \"skills\":\n",
    "        print(\"It is found\")\n"
   ]
  },
  {
   "cell_type": "code",
   "execution_count": null,
   "metadata": {},
   "outputs": [],
   "source": []
  }
 ],
 "metadata": {
  "kernelspec": {
   "display_name": "ArewaDataScience",
   "language": "python",
   "name": "python3"
  },
  "language_info": {
   "codemirror_mode": {
    "name": "ipython",
    "version": 3
   },
   "file_extension": ".py",
   "mimetype": "text/x-python",
   "name": "python",
   "nbconvert_exporter": "python",
   "pygments_lexer": "ipython3",
   "version": "3.10.11"
  }
 },
 "nbformat": 4,
 "nbformat_minor": 2
}
