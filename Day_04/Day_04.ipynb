{
 "cells": [
  {
   "cell_type": "code",
   "execution_count": 8,
   "metadata": {},
   "outputs": [
    {
     "name": "stdout",
     "output_type": "stream",
     "text": [
      "Thirty Days Of  Python\n"
     ]
    }
   ],
   "source": [
    "#Welcome to Day_4 Exercise\n",
    "a, b, c, d = \"Thirty\", \"Days\", \"Of\", \"Python\"\n",
    "print(a + \" \" + b +\" \" + c + \" \" + \" \" + d)"
   ]
  },
  {
   "cell_type": "code",
   "execution_count": 12,
   "metadata": {},
   "outputs": [
    {
     "name": "stdout",
     "output_type": "stream",
     "text": [
      "Coding For  All\n"
     ]
    }
   ],
   "source": [
    "word_1, word_2, word_3 = \"Coding\", \"For\", \"All\"\n",
    "print(word_1 + \" \" +  word_2 + \" \" + \" \" + word_3)"
   ]
  },
  {
   "cell_type": "code",
   "execution_count": 22,
   "metadata": {},
   "outputs": [
    {
     "name": "stdout",
     "output_type": "stream",
     "text": [
      " Coding For All\n",
      "15\n",
      " CODING FOR ALL\n",
      " coding for all\n",
      " coding for all\n",
      " Coding For All\n",
      " cODING fOR aLL\n",
      " Coding\n",
      "True\n",
      "1\n",
      "1\n",
      " Python For All\n",
      "['Coding', 'For', 'All']\n",
      " \n",
      "['Faceboook,', 'Google,', 'Microsoft,', 'Apple,', 'IBM,', 'Amazon']\n"
     ]
    }
   ],
   "source": [
    "company = \" Coding For All\"\n",
    "\n",
    "print(company)\n",
    "\n",
    "length_check = len(company)\n",
    "print(length_check)\n",
    "\n",
    "upper_case = company.upper()\n",
    "print(upper_case)\n",
    "\n",
    "lower_case = company.lower()\n",
    "print(lower_case)\n",
    "\n",
    "\n",
    "capitalised_formatting = company.capitalize()\n",
    "print(capitalised_formatting)\n",
    "\n",
    "tittle_formatting = company.title()\n",
    "print(tittle_formatting)\n",
    "\n",
    "swapcase_formatting = company.swapcase()\n",
    "print(swapcase_formatting)\n",
    "\n",
    "slicing_first_word = company[0:7]\n",
    "print(slicing_first_word)\n",
    "\n",
    "checking_coding = \"Coding\" in company\n",
    "print(checking_coding)\n",
    "\n",
    "checking_index = company.index(\"Coding\")\n",
    "print(checking_index)\n",
    "\n",
    "checking_find = company.find(\"Coding\")\n",
    "print(checking_find)\n",
    "\n",
    "\n",
    "replacement = company.replace(\"Coding\", \"Python\" )\n",
    "print(replacement)\n",
    "\n",
    "splitting = company.split()\n",
    "print(splitting)\n",
    "\n",
    "\n",
    "char_index_zero = company[0]\n",
    "print(char_index_zero)\n",
    "\n",
    "tech_companies = \"Faceboook, Google, Microsoft, Apple, IBM, Amazon\"\n",
    "splitting_tech_companies  =  tech_companies.split()\n",
    "print(splitting_tech_companies)"
   ]
  },
  {
   "cell_type": "code",
   "execution_count": 30,
   "metadata": {},
   "outputs": [
    {
     "name": "stdout",
     "output_type": "stream",
     "text": [
      "C\n",
      "l\n",
      "0\n",
      " \n"
     ]
    }
   ],
   "source": [
    "company = \"Coding For All\"\n",
    "\n",
    "first_char = company[0]\n",
    "print(first_char) \n",
    "\n",
    "\n",
    "last_char = company[-1]\n",
    "print(last_char)\n",
    "\n",
    "last_index = company.rindex(\"Coding For All\")\n",
    "print(last_index)\n",
    "\n",
    "print(company[10])"
   ]
  },
  {
   "cell_type": "code",
   "execution_count": 38,
   "metadata": {},
   "outputs": [
    {
     "name": "stdout",
     "output_type": "stream",
     "text": [
      "8\n",
      "14\n",
      "26\n",
      "False\n",
      "False\n",
      "Coding For All\n",
      "False\n",
      "True\n"
     ]
    }
   ],
   "source": [
    "cofa = \" Coding For All \"\n",
    "print(cofa.index(\"F\"))\n",
    "\n",
    "print(cofa.rfind(\"l\"))\n",
    "\n",
    "sentence = \"You cannot end a sentence because because because is a conjuction\"\n",
    "print(sentence.find(\"because\"))\n",
    "\n",
    "print(cofa.startswith(\"Coding\"))\n",
    "\n",
    "print(cofa.endswith(\"coding\"))\n",
    "\n",
    "print(cofa.strip())\n",
    "\n",
    "variable_1 = \"30DaysOfPython\"\n",
    "variable_2 = \"thirty_days_of_python\"\n",
    "print(variable_1.isidentifier())\n",
    "print(variable_2.isidentifier())"
   ]
  },
  {
   "cell_type": "code",
   "execution_count": 40,
   "metadata": {},
   "outputs": [
    {
     "name": "stdout",
     "output_type": "stream",
     "text": [
      "Django Flask Bottel Pyramid Falcon\n"
     ]
    }
   ],
   "source": [
    "python_libraries = [\"Django\", \"Flask\", \"Bottel\", \"Pyramid\", \"Falcon\"]\n",
    "joined_list = \" \".join(python_libraries)\n",
    "print(joined_list)"
   ]
  },
  {
   "cell_type": "code",
   "execution_count": 41,
   "metadata": {},
   "outputs": [
    {
     "name": "stdout",
     "output_type": "stream",
     "text": [
      "I am enjoying this challenge. \n",
      "I just wonder what is next.\n"
     ]
    }
   ],
   "source": [
    "sentence = \"I am enjoying this challenge. \\nI just wonder what is next.\"\n",
    "print(sentence)"
   ]
  },
  {
   "cell_type": "code",
   "execution_count": 44,
   "metadata": {},
   "outputs": [
    {
     "name": "stdout",
     "output_type": "stream",
     "text": [
      "Name\tAge\tCountry\tCity\t\n",
      "Sufiyan\t260\tNigeria\tKatsina\t\n"
     ]
    }
   ],
   "source": [
    "table_1 = \"Name\\tAge\\tCountry\\tCity\\t\"\n",
    "data_1 = \"Sufiyan\\t260\\tNigeria\\tKatsina\\t\"\n",
    "print(table_1)\n",
    "print(data_1)"
   ]
  },
  {
   "cell_type": "code",
   "execution_count": 46,
   "metadata": {},
   "outputs": [
    {
     "name": "stdout",
     "output_type": "stream",
     "text": [
      "The area of a circle with raduis 10 is 314.0 meters square\n"
     ]
    }
   ],
   "source": [
    "radius = 10\n",
    "area = 3.14 * radius**2\n",
    "string_formatting = \"The area of a circle with \\\n",
    "raduis {} is {} meters square\".format(radius, area)\n",
    "print(string_formatting)"
   ]
  },
  {
   "cell_type": "code",
   "execution_count": 51,
   "metadata": {},
   "outputs": [
    {
     "name": "stdout",
     "output_type": "stream",
     "text": [
      "8 + 6 = 14\n",
      "8 - 6 = 2\n",
      "8 * 6 = 48\n",
      "8 / 6 = 1.33\n",
      "8 % 6 = 2\n",
      "8 // 6 = 1\n",
      "8 ** 6 = 262144\n"
     ]
    }
   ],
   "source": [
    "num_1 = 8\n",
    "num_2 = 6\n",
    "print(\"{} + {} = {}\".format(num_1, num_2, num_1+num_2))\n",
    "print(\"{} - {} = {}\".format(num_1, num_2, num_1-num_2))\n",
    "print(\"{} * {} = {}\".format(num_1, num_2, num_1*num_2))\n",
    "print(\"{} / {} = {:.2f}\".format(num_1, num_2, num_1/num_2))\n",
    "print(\"{} % {} = {}\".format(num_1, num_2, num_1%num_2))\n",
    "print(\"{} // {} = {}\".format(num_1, num_2, num_1//num_2))\n",
    "print(\"{} ** {} = {}\".format(num_1, num_2, num_1**num_2))"
   ]
  },
  {
   "cell_type": "code",
   "execution_count": null,
   "metadata": {},
   "outputs": [],
   "source": []
  }
 ],
 "metadata": {
  "kernelspec": {
   "display_name": "Python 3",
   "language": "python",
   "name": "python3"
  },
  "language_info": {
   "codemirror_mode": {
    "name": "ipython",
    "version": 3
   },
   "file_extension": ".py",
   "mimetype": "text/x-python",
   "name": "python",
   "nbconvert_exporter": "python",
   "pygments_lexer": "ipython3",
   "version": "3.9.13"
  }
 },
 "nbformat": 4,
 "nbformat_minor": 2
}
