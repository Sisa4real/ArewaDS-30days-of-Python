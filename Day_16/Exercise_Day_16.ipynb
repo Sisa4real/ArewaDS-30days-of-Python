{
 "cells": [
  {
   "cell_type": "code",
   "execution_count": 1,
   "id": "abf1ed0a",
   "metadata": {},
   "outputs": [],
   "source": [
    "# importing the required functions\n",
    "from datetime import datetime,date,time,timedelta"
   ]
  },
  {
   "cell_type": "code",
   "execution_count": 2,
   "id": "d5aca345",
   "metadata": {},
   "outputs": [
    {
     "name": "stdout",
     "output_type": "stream",
     "text": [
      "now: 2023-03-15 16:47:11.013329,day: 15,year: 2023 hour: 16,minute: 47,timestamp:1678895231.013329\n"
     ]
    }
   ],
   "source": [
    "#Question 1\n",
    "\n",
    "#Get the current day, month, year, hour, minute and timestamp from datetime module\n",
    "\n",
    "now = datetime.now()\n",
    "day = now.day\n",
    "month = now.month\n",
    "year = now.year\n",
    "hour = now.hour\n",
    "minute = now.minute\n",
    "timestamp = now.timestamp()\n",
    "print(f'now: {now},day: {now.day},year: {now.year} hour: {now.hour},minute: {now.minute},timestamp:{now.timestamp()}')"
   ]
  },
  {
   "cell_type": "code",
   "execution_count": 3,
   "id": "cfe8ef9c",
   "metadata": {},
   "outputs": [
    {
     "name": "stdout",
     "output_type": "stream",
     "text": [
      "03/15/2023, 16:47:11\n"
     ]
    }
   ],
   "source": [
    "#Question 2\n",
    "#Format the current date using this format: \"%m/%d/%Y, %H:%M:%S\")\n",
    "\n",
    "d = now.strftime(\"%m/%d/%Y, %H:%M:%S\")\n",
    "print(d)"
   ]
  },
  {
   "cell_type": "code",
   "execution_count": 4,
   "id": "7844ef5c",
   "metadata": {},
   "outputs": [
    {
     "name": "stdout",
     "output_type": "stream",
     "text": [
      "date_string = 5 December, 2019\n",
      "date_object = 2019-12-05 00:00:00\n"
     ]
    }
   ],
   "source": [
    "#Question 3\n",
    "\n",
    "#Today is 5 December, 2019. Change this time string to time.\n",
    "\n",
    "date_string = \"5 December, 2019\"\n",
    "print(\"date_string =\", date_string)\n",
    "date_object = datetime.strptime(date_string, \"%d %B, %Y\")\n",
    "print(\"date_object =\", date_object)"
   ]
  },
  {
   "cell_type": "code",
   "execution_count": 5,
   "id": "1089c24a",
   "metadata": {},
   "outputs": [
    {
     "name": "stdout",
     "output_type": "stream",
     "text": [
      "Time to new year is 315 days, 0:00:00 \n"
     ]
    }
   ],
   "source": [
    "#Question 4\n",
    "\n",
    "#Calculate the time difference between now and new year.\n",
    "\n",
    "t_day = date(2023,2,20)\n",
    "new_year = date(2024,1,1)\n",
    "time_to_new_year = new_year - t_day\n",
    "print(f'Time to new year is {time_to_new_year} ')"
   ]
  },
  {
   "cell_type": "code",
   "execution_count": 6,
   "id": "6da053d4",
   "metadata": {},
   "outputs": [
    {
     "name": "stdout",
     "output_type": "stream",
     "text": [
      "The time difference between now and 1 January, 1970,midnight in seconds is 1678895231.013329 \n"
     ]
    }
   ],
   "source": [
    "#Question 5 \n",
    "#Calculate the time difference between 1 January 1970 and now.\n",
    "# This is the timestamp already calculated above\n",
    "print(f'The time difference between now and 1 January, 1970,midnight in seconds is {timestamp} ')"
   ]
  },
  {
   "cell_type": "code",
   "execution_count": null,
   "id": "617e9004",
   "metadata": {},
   "outputs": [],
   "source": []
  },
  {
   "cell_type": "code",
   "execution_count": null,
   "id": "dbe59223",
   "metadata": {},
   "outputs": [],
   "source": []
  },
  {
   "cell_type": "code",
   "execution_count": null,
   "id": "1a6dad9b",
   "metadata": {},
   "outputs": [],
   "source": []
  },
  {
   "cell_type": "code",
   "execution_count": null,
   "id": "e8cb3f7c",
   "metadata": {},
   "outputs": [],
   "source": []
  },
  {
   "cell_type": "code",
   "execution_count": null,
   "id": "116b6eb1",
   "metadata": {},
   "outputs": [],
   "source": []
  }
 ],
 "metadata": {
  "kernelspec": {
   "display_name": "Python 3 (ipykernel)",
   "language": "python",
   "name": "python3"
  },
  "language_info": {
   "codemirror_mode": {
    "name": "ipython",
    "version": 3
   },
   "file_extension": ".py",
   "mimetype": "text/x-python",
   "name": "python",
   "nbconvert_exporter": "python",
   "pygments_lexer": "ipython3",
   "version": "3.9.12"
  }
 },
 "nbformat": 4,
 "nbformat_minor": 5
}
