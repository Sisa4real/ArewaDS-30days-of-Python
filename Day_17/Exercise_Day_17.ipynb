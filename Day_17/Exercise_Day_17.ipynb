{
 "cells": [
  {
   "cell_type": "code",
   "execution_count": null,
   "id": "57889f60",
   "metadata": {},
   "outputs": [],
   "source": [
    "names = ['Finland', 'Sweden', 'Norway', 'Denmark', 'Iceland', 'Estonia', 'Russia']\n",
    "\n",
    "# Unpack the first five countries and store them in a variable nordic_countries\n",
    "nordic_countries = names[:5]\n",
    "print(\"Nordic countries: \", nordic_countries)\n",
    "\n",
    "# Store Estonia and Russia in es and ru respectively\n",
    "es, ru = names[-2:]\n",
    "print(\"Estonia: \", es)\n",
    "print(\"Russia: \", ru)"
   ]
  },
  {
   "cell_type": "code",
   "execution_count": null,
   "id": "bd87af60",
   "metadata": {},
   "outputs": [],
   "source": []
  }
 ],
 "metadata": {
  "kernelspec": {
   "display_name": "Python 3 (ipykernel)",
   "language": "python",
   "name": "python3"
  },
  "language_info": {
   "codemirror_mode": {
    "name": "ipython",
    "version": 3
   },
   "file_extension": ".py",
   "mimetype": "text/x-python",
   "name": "python",
   "nbconvert_exporter": "python",
   "pygments_lexer": "ipython3",
   "version": "3.10.11"
  }
 },
 "nbformat": 4,
 "nbformat_minor": 5
}
