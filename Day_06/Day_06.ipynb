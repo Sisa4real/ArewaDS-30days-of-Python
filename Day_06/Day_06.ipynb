{
 "cells": [
  {
   "cell_type": "code",
   "execution_count": 1,
   "metadata": {},
   "outputs": [],
   "source": [
    "#Day 6 challenge: Tuples\n",
    "\n",
    "#Level 1:\n",
    "empty_tuple = ()\n",
    "empt_tpl = tuple()\n",
    "\n"
   ]
  },
  {
   "cell_type": "code",
   "execution_count": 5,
   "metadata": {},
   "outputs": [
    {
     "name": "stdout",
     "output_type": "stream",
     "text": [
      "('Umar', 'Adam', 'Usman', 'Kabir', 'Amina', 'Rukayya', 'Ameera', 'Hussaina')\n",
      "8\n",
      "['Umar', 'Adam', 'Usman', 'Kabir', 'Amina', 'Rukayya', 'Ameera', 'Hussaina', 'My_Dad', 'My_Mom']\n",
      "('Umar', 'Adam', 'Usman', 'Kabir', 'Amina', 'Rukayya', 'Ameera', 'Hussaina', 'My_Dad', 'My_Mom')\n"
     ]
    }
   ],
   "source": [
    "my_sisters = (\"Amina\", \"Rukayya\", \"Ameera\", \"Hussaina\")\n",
    "my_brothers = (\"Umar\", \"Adam\", \"Usman\", \"Kabir\")\n",
    "brother_and_siters = my_brothers + my_sisters\n",
    "print(brother_and_siters)\n",
    "number_of_siblings = len(brother_and_siters)\n",
    "print(number_of_siblings)\n",
    "\n",
    "family_members = list(brother_and_siters)\n",
    "family_members.append(\"My_Dad\")\n",
    "family_members.append(\"My_Mom\")\n",
    "print(family_members)\n",
    "print(tuple(family_members))"
   ]
  },
  {
   "cell_type": "code",
   "execution_count": 6,
   "metadata": {},
   "outputs": [
    {
     "name": "stdout",
     "output_type": "stream",
     "text": [
      "('Apple', 'Mangoe', 'Banana', 'Pineapple', 'Tomato', 'Potato', 'Onion', 'cabbage', 'Milk', 'Meat', 'Skin')\n"
     ]
    }
   ],
   "source": [
    "#Exercise Level 2: \n",
    "fruits = (\"Apple\", \"Mangoe\", \"Banana\", \"Pineapple\")\n",
    "vegetables = (\"Tomato\", \"Potato\", \"Onion\", \"cabbage\")\n",
    "animal_products = (\"Milk\", \"Meat\", \"Skin\")\n",
    "food_stuff_tpl  = fruits + vegetables + animal_products\n",
    "print(food_stuff_tpl)"
   ]
  },
  {
   "cell_type": "code",
   "execution_count": 7,
   "metadata": {},
   "outputs": [
    {
     "name": "stdout",
     "output_type": "stream",
     "text": [
      "('Apple', 'Mangoe', 'Banana', 'Pineapple', 'Tomato', 'Potato', 'Onion', 'cabbage', 'Milk', 'Meat', 'Skin')\n"
     ]
    }
   ],
   "source": [
    "food_stuff_list = tuple(food_stuff_tpl)\n",
    "print(food_stuff_tpl)"
   ]
  },
  {
   "cell_type": "code",
   "execution_count": 8,
   "metadata": {},
   "outputs": [
    {
     "data": {
      "text/plain": [
       "('Apple', 'Mangoe', 'Banana', 'Pineapple', 'Tomato')"
      ]
     },
     "execution_count": 8,
     "metadata": {},
     "output_type": "execute_result"
    }
   ],
   "source": [
    "food_stuff_tpl[:5]"
   ]
  },
  {
   "cell_type": "code",
   "execution_count": 9,
   "metadata": {},
   "outputs": [
    {
     "data": {
      "text/plain": [
       "('Apple', 'Mangoe', 'Banana', 'Pineapple', 'Tomato', 'Potato', 'Onion')"
      ]
     },
     "execution_count": 9,
     "metadata": {},
     "output_type": "execute_result"
    }
   ],
   "source": [
    "food_stuff_list[:-4]"
   ]
  },
  {
   "cell_type": "code",
   "execution_count": 10,
   "metadata": {},
   "outputs": [
    {
     "data": {
      "text/plain": [
       "('Apple', 'Mangoe', 'Banana')"
      ]
     },
     "execution_count": 10,
     "metadata": {},
     "output_type": "execute_result"
    }
   ],
   "source": [
    "food_stuff_list[:3]"
   ]
  },
  {
   "cell_type": "code",
   "execution_count": 11,
   "metadata": {},
   "outputs": [
    {
     "data": {
      "text/plain": [
       "('Milk', 'Meat', 'Skin')"
      ]
     },
     "execution_count": 11,
     "metadata": {},
     "output_type": "execute_result"
    }
   ],
   "source": [
    "food_stuff_list[-3:]"
   ]
  },
  {
   "cell_type": "code",
   "execution_count": 12,
   "metadata": {},
   "outputs": [],
   "source": [
    "del food_stuff_tpl"
   ]
  },
  {
   "cell_type": "code",
   "execution_count": 14,
   "metadata": {},
   "outputs": [
    {
     "ename": "NameError",
     "evalue": "name 'food_stuff_tpl' is not defined",
     "output_type": "error",
     "traceback": [
      "\u001b[1;31m---------------------------------------------------------------------------\u001b[0m",
      "\u001b[1;31mNameError\u001b[0m                                 Traceback (most recent call last)",
      "\u001b[1;32mc:\\Users\\HP-PC\\Desktop\\ArewaDS-30-Days-of-Python\\ArewaDS-30days-of-Python\\Day_06\\Day_06.ipynb Cell 10\u001b[0m line \u001b[0;36m1\n\u001b[1;32m----> <a href='vscode-notebook-cell:/c%3A/Users/HP-PC/Desktop/ArewaDS-30-Days-of-Python/ArewaDS-30days-of-Python/Day_06/Day_06.ipynb#X13sZmlsZQ%3D%3D?line=0'>1</a>\u001b[0m food_stuff_tpl\n",
      "\u001b[1;31mNameError\u001b[0m: name 'food_stuff_tpl' is not defined"
     ]
    }
   ],
   "source": [
    "food_stuff_tpl"
   ]
  },
  {
   "cell_type": "code",
   "execution_count": 21,
   "metadata": {},
   "outputs": [
    {
     "data": {
      "text/plain": [
       "False"
      ]
     },
     "execution_count": 21,
     "metadata": {},
     "output_type": "execute_result"
    }
   ],
   "source": [
    "nordic_countries = ('Denmark', 'Finland','Iceland', 'Norway', 'Sweden')\n",
    "\n",
    "\"Estonia\" in nordic_countries\n"
   ]
  },
  {
   "cell_type": "code",
   "execution_count": 22,
   "metadata": {},
   "outputs": [
    {
     "data": {
      "text/plain": [
       "True"
      ]
     },
     "execution_count": 22,
     "metadata": {},
     "output_type": "execute_result"
    }
   ],
   "source": [
    "\"Iceland\" in nordic_countries"
   ]
  },
  {
   "cell_type": "code",
   "execution_count": null,
   "metadata": {},
   "outputs": [],
   "source": []
  }
 ],
 "metadata": {
  "kernelspec": {
   "display_name": "Python 3",
   "language": "python",
   "name": "python3"
  },
  "language_info": {
   "codemirror_mode": {
    "name": "ipython",
    "version": 3
   },
   "file_extension": ".py",
   "mimetype": "text/x-python",
   "name": "python",
   "nbconvert_exporter": "python",
   "pygments_lexer": "ipython3",
   "version": "3.9.13"
  }
 },
 "nbformat": 4,
 "nbformat_minor": 2
}
