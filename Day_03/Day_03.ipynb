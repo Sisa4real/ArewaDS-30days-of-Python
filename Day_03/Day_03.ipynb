{
 "cells": [
  {
   "cell_type": "code",
   "execution_count": 4,
   "metadata": {},
   "outputs": [
    {
     "name": "stdout",
     "output_type": "stream",
     "text": [
      "th are of the triangle is:  100.0\n"
     ]
    }
   ],
   "source": [
    "#DDay 3\n",
    "#Question 1: \n",
    "my_age = 32340\n",
    "#Question 2\n",
    "my_height = 68.9\n",
    "#Question 3: \n",
    "complex_number = 4 - 4j\n",
    "\n",
    "\n",
    "#Question 4: \n",
    "base = float(input(\"Enetr the base of the trinagle: \"))\n",
    "height = float(input(\"Enter the height of the triangle: \"))\n",
    "area_of_triangle = 0.5 * base * height\n",
    "print(\"th are of the triangle is: \", area_of_triangle)"
   ]
  },
  {
   "cell_type": "code",
   "execution_count": 6,
   "metadata": {},
   "outputs": [
    {
     "name": "stdout",
     "output_type": "stream",
     "text": [
      "The perimeter of  the triangle is:  12.0\n"
     ]
    }
   ],
   "source": [
    "#Question 5:\n",
    "side_a = float(input(\"Enter the first side of the triangle: \"))\n",
    "side_b = float(input(\"Enter the second side of the triangle: \"))\n",
    "side_c = float(input(\"Enter the last side of the triangle: \"))\n",
    "perimeter = side_a + side_b + side_c\n",
    "print(\"The perimeter of  the triangle is: \", perimeter)"
   ]
  },
  {
   "cell_type": "code",
   "execution_count": 9,
   "metadata": {},
   "outputs": [
    {
     "name": "stdout",
     "output_type": "stream",
     "text": [
      "The area of the rectangle is:  630.0 in square meters\n",
      "The perimter of the rectangle is:  102.0 in meters\n"
     ]
    }
   ],
   "source": [
    "#Question 6\n",
    "length_of_rectangle = float(input(\"Enter the length of the rectangle here: \")) \n",
    "width_of_rectangle = float(input(\"Enter the width of the rectangle here: \")) \n",
    "area_of_the_rectangle = length_of_rectangle * width_of_rectangle\n",
    "perimeter_of_the_rectangle = 2*(length_of_rectangle + width_of_rectangle)\n",
    "print(\"The area of the rectangle is: \", area_of_the_rectangle, \"in square meters\")\n",
    "print(\"The perimter of the rectangle is: \", perimeter_of_the_rectangle, \"in meters\")"
   ]
  },
  {
   "cell_type": "code",
   "execution_count": null,
   "metadata": {},
   "outputs": [],
   "source": [
    "#Question 7\n",
    "radius = float(input(\"Enter the radius of the circle: \"))\n",
    "pi = 3.14\n",
    "area_of_the_circle = pi * (radius**2)\n",
    "circumference_of_the_circle = 2*pi*radius"
   ]
  },
  {
   "cell_type": "code",
   "execution_count": 17,
   "metadata": {},
   "outputs": [
    {
     "name": "stdout",
     "output_type": "stream",
     "text": [
      "2.0\n",
      "8.94427190999916\n",
      "0\n"
     ]
    }
   ],
   "source": [
    "x_1 = 2\n",
    "y_1 = 2\n",
    "x_2 = 6\n",
    "y_2 = 10\n",
    "slope_m = (y_2 - y_1)/(x_2 - x_1)\n",
    "eucleadian_distance = (((x_2 - x_1)**2) + ((y_2 - y_1)**2))**0.5\n",
    "print(slope_m)\n",
    "print(eucleadian_distance)\n",
    "\n",
    "x = -3\n",
    "\n",
    "y = (x**2) + (6*x) + 9\n",
    "\n",
    "print(y)"
   ]
  },
  {
   "cell_type": "code",
   "execution_count": 27,
   "metadata": {},
   "outputs": [
    {
     "name": "stdout",
     "output_type": "stream",
     "text": [
      "True\n",
      "False\n",
      "6\n",
      "6\n",
      "False\n"
     ]
    }
   ],
   "source": [
    "sentence = \"I hope this course is not full of jargon\"\n",
    "print(\"jargon\" in sentence)\n",
    "print(\"on\" not in \"python\" and \"dragon\")\n",
    "print(len(\"python\"))\n",
    "print(len(\"dragon\"))\n",
    "print(len(\"python\")<len(\"dragon\"))\n"
   ]
  },
  {
   "cell_type": "code",
   "execution_count": 24,
   "metadata": {},
   "outputs": [
    {
     "name": "stdout",
     "output_type": "stream",
     "text": [
      "True\n"
     ]
    }
   ],
   "source": [
    "print(\"on\" in \"python\" and \"on\" in \"dragon\")"
   ]
  },
  {
   "cell_type": "code",
   "execution_count": 21,
   "metadata": {},
   "outputs": [
    {
     "name": "stdout",
     "output_type": "stream",
     "text": [
      "6\n",
      "6.0\n",
      "6\n"
     ]
    }
   ],
   "source": [
    "length = len(\"python\")\n",
    "print(length)\n",
    "print(float(length))\n",
    "print(str(length))"
   ]
  },
  {
   "cell_type": "code",
   "execution_count": 28,
   "metadata": {},
   "outputs": [
    {
     "name": "stdout",
     "output_type": "stream",
     "text": [
      "True\n"
     ]
    }
   ],
   "source": [
    "number = 16\n",
    "even_number = number %2 == 0\n",
    "print(even_number)\n"
   ]
  },
  {
   "cell_type": "code",
   "execution_count": 30,
   "metadata": {},
   "outputs": [
    {
     "name": "stdout",
     "output_type": "stream",
     "text": [
      "2\n",
      "2\n",
      "True\n"
     ]
    }
   ],
   "source": [
    "print(7//3)\n",
    "print(int(2.7))\n",
    "print((7//3)== int(2.7))"
   ]
  },
  {
   "cell_type": "code",
   "execution_count": 34,
   "metadata": {},
   "outputs": [
    {
     "name": "stdout",
     "output_type": "stream",
     "text": [
      "False\n"
     ]
    }
   ],
   "source": [
    "print(type(\"10\") == type(10))\n"
   ]
  },
  {
   "cell_type": "code",
   "execution_count": 40,
   "metadata": {},
   "outputs": [
    {
     "name": "stdout",
     "output_type": "stream",
     "text": [
      "Your weekly pay is:  1120 Naira\n"
     ]
    }
   ],
   "source": [
    "hours_worked = eval(input(\"Enter the number of hours you worked: \"))\n",
    "rate_per_hour = eval(input(\"Enter thr rate per hour here: \"))\n",
    "weekly_pay = hours_worked * rate_per_hour\n",
    "print(\"Your weekly pay is: \", weekly_pay, \"Naira\")\n"
   ]
  },
  {
   "cell_type": "code",
   "execution_count": 42,
   "metadata": {},
   "outputs": [
    {
     "name": "stdout",
     "output_type": "stream",
     "text": [
      "You have lived for 3153600000 seconds\n"
     ]
    }
   ],
   "source": [
    "numberof_years = int(input(\"Enter the number if years you lived: \"))\n",
    "days = 365\n",
    "hrs = 24\n",
    "minutes = 60\n",
    "seconds = 60\n",
    "seconds_lived = numberof_years * days * hrs * minutes * seconds\n",
    "print(\"You have lived for\", seconds_lived, \"seconds\")"
   ]
  },
  {
   "cell_type": "code",
   "execution_count": 44,
   "metadata": {},
   "outputs": [
    {
     "name": "stdout",
     "output_type": "stream",
     "text": [
      "1 1 1 1 1\n",
      "2 1 2 4 8\n",
      "3 1 3 9 27\n",
      "4 1 4 16 64\n",
      "5 1 5 25 125\n"
     ]
    }
   ],
   "source": [
    "print(1, (1**0), (1**1), (1**2), (1**3))\n",
    "print(2, (2**0), (2**1), (2**2), (2**3))\n",
    "print(3, (3**0), (3**1), (3**2), (3**3))\n",
    "print(4, (4**0), (4**1), (4**2), (4**3))\n",
    "print(5, (5**0), (5**1), (5**2), (5**3))"
   ]
  },
  {
   "cell_type": "code",
   "execution_count": null,
   "metadata": {},
   "outputs": [],
   "source": []
  }
 ],
 "metadata": {
  "kernelspec": {
   "display_name": "ArewaDataScience",
   "language": "python",
   "name": "python3"
  },
  "language_info": {
   "codemirror_mode": {
    "name": "ipython",
    "version": 3
   },
   "file_extension": ".py",
   "mimetype": "text/x-python",
   "name": "python",
   "nbconvert_exporter": "python",
   "pygments_lexer": "ipython3",
   "version": "3.9.13"
  }
 },
 "nbformat": 4,
 "nbformat_minor": 2
}
