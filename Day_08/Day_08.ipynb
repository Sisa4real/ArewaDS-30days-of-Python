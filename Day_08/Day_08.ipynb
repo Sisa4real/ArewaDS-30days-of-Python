{
 "cells": [
  {
   "cell_type": "code",
   "execution_count": 23,
   "metadata": {},
   "outputs": [
    {
     "name": "stdout",
     "output_type": "stream",
     "text": [
      "9\n",
      "<class 'list'>\n",
      "['Python', 'HTML', 'CSS', 'Matlab']\n",
      "dict_keys(['first_name', 'last_name', 'gender', 'age', 'marital status', 'skills', 'country', 'city', 'address'])\n",
      "dict_values(['Sufiyan', 'Ibrahim', 'Male', '340', 'Single', ['Python', 'HTML', 'CSS', 'Matlab', 'java'], 'Nigeria', 'Katsina', {'Street_number': '23', 'street_name': 'Damari Road'}])\n",
      "dict_items([('first_name', 'Sufiyan'), ('last_name', 'Ibrahim'), ('gender', 'Male'), ('age', '340'), ('marital status', 'Single'), ('skills', ['Python', 'HTML', 'CSS', 'Matlab', 'java']), ('country', 'Nigeria'), ('city', 'Katsina'), ('address', {'Street_number': '23', 'street_name': 'Damari Road'})])\n",
      "('address', {'Street_number': '23', 'street_name': 'Damari Road'})\n"
     ]
    }
   ],
   "source": [
    "#Welcome to Day 8 Exercise Solutions\n",
    "\n",
    "dog_dict = {}\n",
    "dog_dict = {\"Name\": \"Doggee\", \n",
    "            \"Color\": \"Brown\", \"Breed\": \"Male\", \n",
    "            \"Legs\": \"4\" }\n",
    "#Creating a Student Dictionary:\n",
    "student_dict = { \"first_name\" : \"Sufiyan\",\n",
    "                \"last_name\" : \"Ibrahim\",\n",
    "                \"gender\" : \"Male\",\n",
    "                \"age\" : \"340\",\n",
    "                \"marital status\" : \"Single\",\n",
    "                \"skills\" : [\"Python\", \"HTML\", \"CSS\", \"Matlab\"],\n",
    "                \"country\" : \"Nigeria\",\n",
    "                \"city\" : \"Katsina\",\n",
    "                \"address\" : {\"Street_number\" : \"23\",\n",
    "                             \"street_name\": \"Damari Road\" \n",
    "                             }\n",
    "}\n",
    "#Getting the length of the student dictionary\n",
    "length_dict = len(student_dict)\n",
    "print(length_dict)\n",
    "\n",
    "#Getting the values of skills key and checking the data types\n",
    "skill_values = student_dict[\"skills\"]\n",
    "print(type(student_dict[\"skills\"]))\n",
    "print(skill_values)\n",
    "\n",
    "#Addding another value to skills key\n",
    "student_dict[\"skills\"].append(\"java\")\n",
    "student_dict[\"skills\"]\n",
    "\n",
    "#Geting the Dictionaty Keys as list\n",
    "getting_keys_list = student_dict.keys()\n",
    "print(getting_keys_list)\n",
    "\n",
    "#Geting the Dictionaty values as list\n",
    "getting_values_as_list = student_dict.values()\n",
    "print(getting_values_as_list)\n",
    "\n",
    "#Changing the dictionary to  list of tuple:\n",
    "dict_to_tuple = student_dict.items()\n",
    "print(dict_to_tuple)\n",
    "\n",
    "#Deliting one item from the dictionary\n",
    "deleting_item = student_dict.popitem()\n",
    "print(deleting_item)\n",
    "\n",
    "\n",
    "#Deleting of the dictionary:\n",
    "del dog_dict"
   ]
  },
  {
   "cell_type": "code",
   "execution_count": null,
   "metadata": {},
   "outputs": [],
   "source": []
  }
 ],
 "metadata": {
  "kernelspec": {
   "display_name": "ArewaDataScience",
   "language": "python",
   "name": "python3"
  },
  "language_info": {
   "codemirror_mode": {
    "name": "ipython",
    "version": 3
   },
   "file_extension": ".py",
   "mimetype": "text/x-python",
   "name": "python",
   "nbconvert_exporter": "python",
   "pygments_lexer": "ipython3",
   "version": "3.10.11"
  }
 },
 "nbformat": 4,
 "nbformat_minor": 2
}
