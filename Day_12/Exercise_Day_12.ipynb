{
 "cells": [
  {
   "cell_type": "code",
   "execution_count": null,
   "id": "4f0c9dd6",
   "metadata": {},
   "outputs": [],
   "source": [
    "import random\n",
    "import string\n",
    "x=string.ascii_letters+string.digits\n",
    "lst=[]\n",
    "lst[:0]=x\n"
   ]
  },
  {
   "cell_type": "code",
   "execution_count": null,
   "id": "aff83170",
   "metadata": {},
   "outputs": [],
   "source": [
    "#Question  1\n",
    "\n",
    "def random_user_id():\n",
    "    y=' '\n",
    "    for i in range(6):\n",
    "        y+=random.choice(lst)\n",
    "    return y\n",
    "print(random_user_id())\n"
   ]
  },
  {
   "cell_type": "code",
   "execution_count": null,
   "id": "522b4c8d",
   "metadata": {},
   "outputs": [],
   "source": [
    "#Question 2\n",
    "\n",
    "def user_id_gen_by_user():\n",
    "    y=int(input(\"Enter the number of characters in user ID: \"))\n",
    "    x=int(input(\"Enter the number of user  ID to be generated: \"))\n",
    "    for i in range(x):\n",
    "        z=\" \".join([random.choice(lst) for i in range(y)])\n",
    "        print(z)\n",
    "    return ' '\n",
    "print(user_id_gen_by_user())"
   ]
  },
  {
   "cell_type": "code",
   "execution_count": null,
   "id": "2760c3af",
   "metadata": {},
   "outputs": [],
   "source": [
    "#Question 3\n",
    "def rgb_color_gen():\n",
    "    r = str(random.randint(0, 255))\n",
    "    g = str(random.randint(0, 255))\n",
    "    b = str(random.randint(0, 255))\n",
    "    return \"rgb(\" + r + \",\" + g + \",\" + b + \")\"\n",
    "print(rgb_color_gen())"
   ]
  },
  {
   "cell_type": "code",
   "execution_count": null,
   "id": "8d390d99",
   "metadata": {},
   "outputs": [],
   "source": [
    "#Exercise level 2"
   ]
  },
  {
   "cell_type": "code",
   "execution_count": null,
   "id": "06b0db82",
   "metadata": {},
   "outputs": [],
   "source": [
    "import random"
   ]
  },
  {
   "cell_type": "code",
   "execution_count": null,
   "id": "a6ce522b",
   "metadata": {},
   "outputs": [],
   "source": [
    "#Question 1\n",
    "\n",
    "def list_of_hexa_colors(many=0):\n",
    "    if many == 0:\n",
    "        many = random.randint(1, 10)\n",
    "    hexas = \"1,2,3,4,5,6,7,8,9,0,a,b,c,d,e,f\".split(\",\")\n",
    "    hexCodes = []\n",
    "    for _ in range(many):\n",
    "        hexCodes.append(\"#\" + ''.join([random.choice(hexas) for _ in range(6)]))\n",
    "    return hexCodes\n",
    "print(list_of_hexa_colors(many=0))"
   ]
  },
  {
   "cell_type": "code",
   "execution_count": null,
   "id": "7e794e16",
   "metadata": {},
   "outputs": [],
   "source": [
    "#Question 2\n",
    "\n",
    "def list_of_rgb_colors(many=0):\n",
    "   def rgb_color_gen():\n",
    "    r = str(random.randint(0, 255))\n",
    "    g = str(random.randint(0, 255))\n",
    "    b =str(random.randint(0, 255))\n",
    "    return \"rgb(\" + r + \",\" + g + \",\" + b + \")\"\n",
    "    if many == 0:\n",
    "        many = random.randint(1, 10)\n",
    "    rgbs = []\n",
    "    for _ in range(many):\n",
    "        rgbs.append(rgb_color_gen())\n",
    "    return rgbs\n",
    "print(list_of_rgb_colors(many=0))"
   ]
  },
  {
   "cell_type": "code",
   "execution_count": null,
   "id": "05ac1912",
   "metadata": {},
   "outputs": [],
   "source": [
    "#Question 3\n",
    "\n",
    "def generate_colors(col_type,many):\n",
    "    if col_type == 'hexa':\n",
    "        return list_of_hexa_colors(many)\n",
    "    elif col_type == 'rgb':\n",
    "        return list_of_rgb_colors(many)\n",
    "    else:\n",
    "        return \"Invalid Input\"\n",
    "print(generate_colors(\"hexa\",0))"
   ]
  },
  {
   "cell_type": "code",
   "execution_count": null,
   "id": "317304a1",
   "metadata": {},
   "outputs": [],
   "source": [
    "#Exercise Level 3"
   ]
  },
  {
   "cell_type": "code",
   "execution_count": null,
   "id": "c50bee7e",
   "metadata": {},
   "outputs": [],
   "source": [
    "import random\n",
    "#Question 1\n",
    "def shuffled_list(array):\n",
    "    return random.sample(array, len(array))\n",
    "print(shuffled_list([0,5,6,6]))\n",
    "\n",
    "\n"
   ]
  },
  {
   "cell_type": "code",
   "execution_count": null,
   "id": "e76889fa",
   "metadata": {},
   "outputs": [],
   "source": [
    "#Question 2\n",
    "def seven_random():\n",
    "    ary = []\n",
    "    length = -1\n",
    "    while length <= 7:\n",
    "        num = random.randint(0, 9)\n",
    "        if num not in ary:\n",
    "            arr.append(num)\n",
    "            length = len(ary)\n",
    "    return ary\n",
    "print(seven_random())"
   ]
  },
  {
   "cell_type": "code",
   "execution_count": null,
   "id": "2498fece",
   "metadata": {},
   "outputs": [],
   "source": []
  },
  {
   "cell_type": "code",
   "execution_count": null,
   "id": "ada07a92",
   "metadata": {},
   "outputs": [],
   "source": []
  },
  {
   "cell_type": "code",
   "execution_count": null,
   "id": "feac6c5e",
   "metadata": {},
   "outputs": [],
   "source": []
  }
 ],
 "metadata": {
  "kernelspec": {
   "display_name": "Python 3 (ipykernel)",
   "language": "python",
   "name": "python3"
  },
  "language_info": {
   "codemirror_mode": {
    "name": "ipython",
    "version": 3
   },
   "file_extension": ".py",
   "mimetype": "text/x-python",
   "name": "python",
   "nbconvert_exporter": "python",
   "pygments_lexer": "ipython3",
   "version": "3.9.12"
  }
 },
 "nbformat": 4,
 "nbformat_minor": 5
}
